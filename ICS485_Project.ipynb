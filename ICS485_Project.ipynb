{
 "cells": [
  {
   "cell_type": "markdown",
   "id": "74fe69e4",
   "metadata": {},
   "source": [
    "**This Project is done by:   \n",
    "Yousef Almodhi 201972810  \n",
    "Omar Ibrahim 201858840**"
   ]
  },
  {
   "cell_type": "markdown",
   "id": "c018de5f",
   "metadata": {},
   "source": [
    "Uncomment this cell to install required packages"
   ]
  },
  {
   "cell_type": "code",
   "execution_count": 1,
   "id": "fd0c753f",
   "metadata": {},
   "outputs": [],
   "source": [
    "#!pip install --user imblearn"
   ]
  },
  {
   "cell_type": "markdown",
   "id": "702d2d56",
   "metadata": {},
   "source": [
    "# Data Preprocessing"
   ]
  },
  {
   "cell_type": "code",
   "execution_count": 2,
   "id": "87fe1710",
   "metadata": {},
   "outputs": [
    {
     "data": {
      "text/html": [
       "<div>\n",
       "<style scoped>\n",
       "    .dataframe tbody tr th:only-of-type {\n",
       "        vertical-align: middle;\n",
       "    }\n",
       "\n",
       "    .dataframe tbody tr th {\n",
       "        vertical-align: top;\n",
       "    }\n",
       "\n",
       "    .dataframe thead th {\n",
       "        text-align: right;\n",
       "    }\n",
       "</style>\n",
       "<table border=\"1\" class=\"dataframe\">\n",
       "  <thead>\n",
       "    <tr style=\"text-align: right;\">\n",
       "      <th></th>\n",
       "      <th>X1</th>\n",
       "      <th>X2</th>\n",
       "      <th>X3</th>\n",
       "      <th>X4</th>\n",
       "      <th>X5</th>\n",
       "      <th>X6</th>\n",
       "      <th>X7</th>\n",
       "      <th>X8</th>\n",
       "      <th>X9</th>\n",
       "      <th>X10</th>\n",
       "      <th>X11</th>\n",
       "      <th>X12</th>\n",
       "      <th>X13</th>\n",
       "      <th>X14</th>\n",
       "      <th>X15</th>\n",
       "      <th>Y</th>\n",
       "    </tr>\n",
       "  </thead>\n",
       "  <tbody>\n",
       "    <tr>\n",
       "      <th>0</th>\n",
       "      <td>2709</td>\n",
       "      <td>59.0</td>\n",
       "      <td>11</td>\n",
       "      <td>120</td>\n",
       "      <td>43</td>\n",
       "      <td>150</td>\n",
       "      <td>228</td>\n",
       "      <td>217</td>\n",
       "      <td>120</td>\n",
       "      <td>2114</td>\n",
       "      <td>0.66</td>\n",
       "      <td>269</td>\n",
       "      <td>FC11</td>\n",
       "      <td>CA49</td>\n",
       "      <td>R1</td>\n",
       "      <td>Melon</td>\n",
       "    </tr>\n",
       "    <tr>\n",
       "      <th>1</th>\n",
       "      <td>2802</td>\n",
       "      <td>54.0</td>\n",
       "      <td>7</td>\n",
       "      <td>0</td>\n",
       "      <td>0</td>\n",
       "      <td>693</td>\n",
       "      <td>224</td>\n",
       "      <td>225</td>\n",
       "      <td>136</td>\n",
       "      <td>162</td>\n",
       "      <td>0.35</td>\n",
       "      <td>195</td>\n",
       "      <td>FC11</td>\n",
       "      <td>CA50</td>\n",
       "      <td>NaN</td>\n",
       "      <td>Melon</td>\n",
       "    </tr>\n",
       "    <tr>\n",
       "      <th>2</th>\n",
       "      <td>2325</td>\n",
       "      <td>28.0</td>\n",
       "      <td>12</td>\n",
       "      <td>0</td>\n",
       "      <td>0</td>\n",
       "      <td>1260</td>\n",
       "      <td>215</td>\n",
       "      <td>213</td>\n",
       "      <td>133</td>\n",
       "      <td>162</td>\n",
       "      <td>0.89</td>\n",
       "      <td>750</td>\n",
       "      <td>FC14</td>\n",
       "      <td>CA26</td>\n",
       "      <td>NaN</td>\n",
       "      <td>Carrot</td>\n",
       "    </tr>\n",
       "    <tr>\n",
       "      <th>3</th>\n",
       "      <td>2837</td>\n",
       "      <td>112.0</td>\n",
       "      <td>8</td>\n",
       "      <td>272</td>\n",
       "      <td>16</td>\n",
       "      <td>3649</td>\n",
       "      <td>235</td>\n",
       "      <td>231</td>\n",
       "      <td>128</td>\n",
       "      <td>6221</td>\n",
       "      <td>0.27</td>\n",
       "      <td>-155</td>\n",
       "      <td>FC11</td>\n",
       "      <td>CA32</td>\n",
       "      <td>NaN</td>\n",
       "      <td>Orange</td>\n",
       "    </tr>\n",
       "    <tr>\n",
       "      <th>4</th>\n",
       "      <td>2509</td>\n",
       "      <td>59.0</td>\n",
       "      <td>7</td>\n",
       "      <td>134</td>\n",
       "      <td>10</td>\n",
       "      <td>900</td>\n",
       "      <td>226</td>\n",
       "      <td>226</td>\n",
       "      <td>134</td>\n",
       "      <td>5184</td>\n",
       "      <td>0.93</td>\n",
       "      <td>88</td>\n",
       "      <td>FC11</td>\n",
       "      <td>CA38</td>\n",
       "      <td>NaN</td>\n",
       "      <td>Melon</td>\n",
       "    </tr>\n",
       "  </tbody>\n",
       "</table>\n",
       "</div>"
      ],
      "text/plain": [
       "     X1     X2  X3   X4  X5    X6   X7   X8   X9   X10   X11  X12    X13  \\\n",
       "0  2709   59.0  11  120  43   150  228  217  120  2114  0.66  269   FC11   \n",
       "1  2802   54.0   7    0   0   693  224  225  136   162  0.35  195   FC11   \n",
       "2  2325   28.0  12    0   0  1260  215  213  133   162  0.89  750   FC14   \n",
       "3  2837  112.0   8  272  16  3649  235  231  128  6221  0.27 -155   FC11   \n",
       "4  2509   59.0   7  134  10   900  226  226  134  5184  0.93   88   FC11   \n",
       "\n",
       "     X14  X15       Y  \n",
       "0   CA49   R1   Melon  \n",
       "1   CA50  NaN   Melon  \n",
       "2   CA26  NaN  Carrot  \n",
       "3   CA32  NaN  Orange  \n",
       "4   CA38  NaN   Melon  "
      ]
     },
     "metadata": {},
     "output_type": "display_data"
    }
   ],
   "source": [
    "import numpy as np\n",
    "import pandas as pd\n",
    "from sklearn.model_selection import train_test_split\n",
    "from sklearn.preprocessing import StandardScaler\n",
    "import sklearn.metrics\n",
    "import matplotlib.pyplot as plt\n",
    "%matplotlib inline\n",
    "\n",
    "df = pd.read_csv('./Dataset-vf.csv')\n",
    "\n",
    "display(df.head())"
   ]
  },
  {
   "cell_type": "code",
   "execution_count": 3,
   "id": "1b31915b",
   "metadata": {},
   "outputs": [],
   "source": [
    "SEED = 777\n",
    "\n",
    "np.random.seed(SEED)"
   ]
  },
  {
   "cell_type": "code",
   "execution_count": 4,
   "id": "20ae83c8",
   "metadata": {},
   "outputs": [
    {
     "data": {
      "text/html": [
       "<div>\n",
       "<style scoped>\n",
       "    .dataframe tbody tr th:only-of-type {\n",
       "        vertical-align: middle;\n",
       "    }\n",
       "\n",
       "    .dataframe tbody tr th {\n",
       "        vertical-align: top;\n",
       "    }\n",
       "\n",
       "    .dataframe thead th {\n",
       "        text-align: right;\n",
       "    }\n",
       "</style>\n",
       "<table border=\"1\" class=\"dataframe\">\n",
       "  <thead>\n",
       "    <tr style=\"text-align: right;\">\n",
       "      <th></th>\n",
       "      <th>X1</th>\n",
       "      <th>X2</th>\n",
       "      <th>X3</th>\n",
       "      <th>X4</th>\n",
       "      <th>X5</th>\n",
       "      <th>X6</th>\n",
       "      <th>X7</th>\n",
       "      <th>X8</th>\n",
       "      <th>X9</th>\n",
       "      <th>X10</th>\n",
       "      <th>X11</th>\n",
       "      <th>X12</th>\n",
       "    </tr>\n",
       "  </thead>\n",
       "  <tbody>\n",
       "    <tr>\n",
       "      <th>count</th>\n",
       "      <td>6374.000000</td>\n",
       "      <td>5747.000000</td>\n",
       "      <td>6374.000000</td>\n",
       "      <td>6374.000000</td>\n",
       "      <td>6374.000000</td>\n",
       "      <td>6374.000000</td>\n",
       "      <td>6374.000000</td>\n",
       "      <td>6374.000000</td>\n",
       "      <td>6374.000000</td>\n",
       "      <td>6374.000000</td>\n",
       "      <td>6374.000000</td>\n",
       "      <td>6374.000000</td>\n",
       "    </tr>\n",
       "    <tr>\n",
       "      <th>mean</th>\n",
       "      <td>2635.858958</td>\n",
       "      <td>153.239603</td>\n",
       "      <td>17.059617</td>\n",
       "      <td>191.487292</td>\n",
       "      <td>47.864920</td>\n",
       "      <td>1515.537182</td>\n",
       "      <td>215.191246</td>\n",
       "      <td>218.024318</td>\n",
       "      <td>130.301224</td>\n",
       "      <td>1425.017728</td>\n",
       "      <td>0.494167</td>\n",
       "      <td>6.786476</td>\n",
       "    </tr>\n",
       "    <tr>\n",
       "      <th>std</th>\n",
       "      <td>394.715236</td>\n",
       "      <td>105.619123</td>\n",
       "      <td>9.008995</td>\n",
       "      <td>177.839135</td>\n",
       "      <td>57.640187</td>\n",
       "      <td>1281.423405</td>\n",
       "      <td>31.643570</td>\n",
       "      <td>23.850334</td>\n",
       "      <td>49.012495</td>\n",
       "      <td>1109.522425</td>\n",
       "      <td>0.291627</td>\n",
       "      <td>573.926918</td>\n",
       "    </tr>\n",
       "    <tr>\n",
       "      <th>min</th>\n",
       "      <td>1863.000000</td>\n",
       "      <td>0.000000</td>\n",
       "      <td>0.000000</td>\n",
       "      <td>0.000000</td>\n",
       "      <td>-134.000000</td>\n",
       "      <td>0.000000</td>\n",
       "      <td>0.000000</td>\n",
       "      <td>99.000000</td>\n",
       "      <td>0.000000</td>\n",
       "      <td>30.000000</td>\n",
       "      <td>0.000000</td>\n",
       "      <td>-1000.000000</td>\n",
       "    </tr>\n",
       "    <tr>\n",
       "      <th>25%</th>\n",
       "      <td>2282.000000</td>\n",
       "      <td>69.000000</td>\n",
       "      <td>10.000000</td>\n",
       "      <td>42.000000</td>\n",
       "      <td>2.000000</td>\n",
       "      <td>624.000000</td>\n",
       "      <td>200.000000</td>\n",
       "      <td>206.000000</td>\n",
       "      <td>98.000000</td>\n",
       "      <td>663.000000</td>\n",
       "      <td>0.240000</td>\n",
       "      <td>-492.000000</td>\n",
       "    </tr>\n",
       "    <tr>\n",
       "      <th>50%</th>\n",
       "      <td>2686.000000</td>\n",
       "      <td>123.000000</td>\n",
       "      <td>16.000000</td>\n",
       "      <td>150.000000</td>\n",
       "      <td>28.000000</td>\n",
       "      <td>1150.000000</td>\n",
       "      <td>223.000000</td>\n",
       "      <td>222.000000</td>\n",
       "      <td>135.000000</td>\n",
       "      <td>1168.000000</td>\n",
       "      <td>0.490000</td>\n",
       "      <td>21.500000</td>\n",
       "    </tr>\n",
       "    <tr>\n",
       "      <th>75%</th>\n",
       "      <td>2919.000000</td>\n",
       "      <td>242.000000</td>\n",
       "      <td>24.000000</td>\n",
       "      <td>295.000000</td>\n",
       "      <td>78.000000</td>\n",
       "      <td>1959.000000</td>\n",
       "      <td>238.750000</td>\n",
       "      <td>235.000000</td>\n",
       "      <td>165.000000</td>\n",
       "      <td>1852.000000</td>\n",
       "      <td>0.750000</td>\n",
       "      <td>495.750000</td>\n",
       "    </tr>\n",
       "    <tr>\n",
       "      <th>max</th>\n",
       "      <td>3675.000000</td>\n",
       "      <td>360.000000</td>\n",
       "      <td>52.000000</td>\n",
       "      <td>1129.000000</td>\n",
       "      <td>334.000000</td>\n",
       "      <td>6890.000000</td>\n",
       "      <td>254.000000</td>\n",
       "      <td>254.000000</td>\n",
       "      <td>248.000000</td>\n",
       "      <td>6853.000000</td>\n",
       "      <td>1.000000</td>\n",
       "      <td>1000.000000</td>\n",
       "    </tr>\n",
       "  </tbody>\n",
       "</table>\n",
       "</div>"
      ],
      "text/plain": [
       "                X1           X2           X3           X4           X5  \\\n",
       "count  6374.000000  5747.000000  6374.000000  6374.000000  6374.000000   \n",
       "mean   2635.858958   153.239603    17.059617   191.487292    47.864920   \n",
       "std     394.715236   105.619123     9.008995   177.839135    57.640187   \n",
       "min    1863.000000     0.000000     0.000000     0.000000  -134.000000   \n",
       "25%    2282.000000    69.000000    10.000000    42.000000     2.000000   \n",
       "50%    2686.000000   123.000000    16.000000   150.000000    28.000000   \n",
       "75%    2919.000000   242.000000    24.000000   295.000000    78.000000   \n",
       "max    3675.000000   360.000000    52.000000  1129.000000   334.000000   \n",
       "\n",
       "                X6           X7           X8           X9          X10  \\\n",
       "count  6374.000000  6374.000000  6374.000000  6374.000000  6374.000000   \n",
       "mean   1515.537182   215.191246   218.024318   130.301224  1425.017728   \n",
       "std    1281.423405    31.643570    23.850334    49.012495  1109.522425   \n",
       "min       0.000000     0.000000    99.000000     0.000000    30.000000   \n",
       "25%     624.000000   200.000000   206.000000    98.000000   663.000000   \n",
       "50%    1150.000000   223.000000   222.000000   135.000000  1168.000000   \n",
       "75%    1959.000000   238.750000   235.000000   165.000000  1852.000000   \n",
       "max    6890.000000   254.000000   254.000000   248.000000  6853.000000   \n",
       "\n",
       "               X11          X12  \n",
       "count  6374.000000  6374.000000  \n",
       "mean      0.494167     6.786476  \n",
       "std       0.291627   573.926918  \n",
       "min       0.000000 -1000.000000  \n",
       "25%       0.240000  -492.000000  \n",
       "50%       0.490000    21.500000  \n",
       "75%       0.750000   495.750000  \n",
       "max       1.000000  1000.000000  "
      ]
     },
     "execution_count": 4,
     "metadata": {},
     "output_type": "execute_result"
    }
   ],
   "source": [
    "df.describe()"
   ]
  },
  {
   "cell_type": "code",
   "execution_count": 5,
   "id": "eedc6850",
   "metadata": {},
   "outputs": [
    {
     "data": {
      "text/html": [
       "<div>\n",
       "<style scoped>\n",
       "    .dataframe tbody tr th:only-of-type {\n",
       "        vertical-align: middle;\n",
       "    }\n",
       "\n",
       "    .dataframe tbody tr th {\n",
       "        vertical-align: top;\n",
       "    }\n",
       "\n",
       "    .dataframe thead th {\n",
       "        text-align: right;\n",
       "    }\n",
       "</style>\n",
       "<table border=\"1\" class=\"dataframe\">\n",
       "  <thead>\n",
       "    <tr style=\"text-align: right;\">\n",
       "      <th></th>\n",
       "      <th>X13</th>\n",
       "      <th>X14</th>\n",
       "      <th>X15</th>\n",
       "      <th>Y</th>\n",
       "    </tr>\n",
       "  </thead>\n",
       "  <tbody>\n",
       "    <tr>\n",
       "      <th>count</th>\n",
       "      <td>6374</td>\n",
       "      <td>6374</td>\n",
       "      <td>631</td>\n",
       "      <td>6374</td>\n",
       "    </tr>\n",
       "    <tr>\n",
       "      <th>unique</th>\n",
       "      <td>4</td>\n",
       "      <td>32</td>\n",
       "      <td>4</td>\n",
       "      <td>7</td>\n",
       "    </tr>\n",
       "    <tr>\n",
       "      <th>top</th>\n",
       "      <td>FC14</td>\n",
       "      <td>CA30</td>\n",
       "      <td>R3</td>\n",
       "      <td>Carrot</td>\n",
       "    </tr>\n",
       "    <tr>\n",
       "      <th>freq</th>\n",
       "      <td>2692</td>\n",
       "      <td>720</td>\n",
       "      <td>241</td>\n",
       "      <td>1620</td>\n",
       "    </tr>\n",
       "  </tbody>\n",
       "</table>\n",
       "</div>"
      ],
      "text/plain": [
       "          X13    X14  X15       Y\n",
       "count    6374   6374  631    6374\n",
       "unique      4     32    4       7\n",
       "top      FC14   CA30   R3  Carrot\n",
       "freq     2692    720  241    1620"
      ]
     },
     "execution_count": 5,
     "metadata": {},
     "output_type": "execute_result"
    }
   ],
   "source": [
    "df.describe(include='object')"
   ]
  },
  {
   "cell_type": "code",
   "execution_count": 6,
   "id": "86185835",
   "metadata": {},
   "outputs": [
    {
     "data": {
      "text/plain": [
       "X1        0\n",
       "X2      627\n",
       "X3        0\n",
       "X4        0\n",
       "X5        0\n",
       "X6        0\n",
       "X7        0\n",
       "X8        0\n",
       "X9        0\n",
       "X10       0\n",
       "X11       0\n",
       "X12       0\n",
       "X13       0\n",
       "X14       0\n",
       "X15    5743\n",
       "Y         0\n",
       "dtype: int64"
      ]
     },
     "execution_count": 6,
     "metadata": {},
     "output_type": "execute_result"
    }
   ],
   "source": [
    "df.isnull().sum()"
   ]
  },
  {
   "cell_type": "code",
   "execution_count": 7,
   "id": "29ed6284",
   "metadata": {},
   "outputs": [
    {
     "name": "stdout",
     "output_type": "stream",
     "text": [
      "<class 'pandas.core.frame.DataFrame'>\n",
      "RangeIndex: 6374 entries, 0 to 6373\n",
      "Data columns (total 16 columns):\n",
      " #   Column  Non-Null Count  Dtype  \n",
      "---  ------  --------------  -----  \n",
      " 0   X1      6374 non-null   int64  \n",
      " 1   X2      5747 non-null   float64\n",
      " 2   X3      6374 non-null   int64  \n",
      " 3   X4      6374 non-null   int64  \n",
      " 4   X5      6374 non-null   int64  \n",
      " 5   X6      6374 non-null   int64  \n",
      " 6   X7      6374 non-null   int64  \n",
      " 7   X8      6374 non-null   int64  \n",
      " 8   X9      6374 non-null   int64  \n",
      " 9   X10     6374 non-null   int64  \n",
      " 10  X11     6374 non-null   float64\n",
      " 11  X12     6374 non-null   int64  \n",
      " 12  X13     6374 non-null   object \n",
      " 13  X14     6374 non-null   object \n",
      " 14  X15     631 non-null    object \n",
      " 15  Y       6374 non-null   object \n",
      "dtypes: float64(2), int64(10), object(4)\n",
      "memory usage: 796.9+ KB\n"
     ]
    }
   ],
   "source": [
    "df.info()"
   ]
  },
  {
   "cell_type": "markdown",
   "id": "c31cb6a7",
   "metadata": {},
   "source": [
    "## Correlation Analysis"
   ]
  },
  {
   "cell_type": "markdown",
   "id": "deb88154",
   "metadata": {},
   "source": [
    "### From below we can see that X11 is weakly related to all other variables"
   ]
  },
  {
   "cell_type": "code",
   "execution_count": 8,
   "id": "d0187e35",
   "metadata": {},
   "outputs": [
    {
     "data": {
      "text/plain": [
       "<AxesSubplot: >"
      ]
     },
     "execution_count": 8,
     "metadata": {},
     "output_type": "execute_result"
    },
    {
     "data": {
      "image/png": "[encoded data removed]",
      "text/plain": [
       "<Figure size 1170x827 with 2 Axes>"
      ]
     },
     "metadata": {},
     "output_type": "display_data"
    }
   ],
   "source": [
    "import seaborn as sns\n",
    "sns.set(rc={'figure.figsize':(11.7,8.27)})\n",
    "sns.heatmap(df.corr(), annot=True)"
   ]
  },
  {
   "cell_type": "markdown",
   "id": "6d14c9cd",
   "metadata": {},
   "source": [
    "### From below we can see that Carrot and Orange have only values FC11 and FC14 in X13 and more correlation can be found so we expect X13 to be a good feature"
   ]
  },
  {
   "cell_type": "code",
   "execution_count": 9,
   "id": "c1098979",
   "metadata": {},
   "outputs": [
    {
     "name": "stdout",
     "output_type": "stream",
     "text": [
      "Y      Apple  Berry  Carrot  Mango  Melon  Orange  Peach\n",
      "X13                                                     \n",
      " FC11    771      0       0      0    644     100    271\n",
      " FC12     24      0       0      0      0       0      0\n",
      " FC13    480    285       0    143    927       0     37\n",
      " FC14      0    965    1620    107      0       0      0\n"
     ]
    }
   ],
   "source": [
    "CrosstabResult=pd.crosstab(index=df['X13'],columns=df['Y'])\n",
    "print(CrosstabResult)"
   ]
  },
  {
   "cell_type": "code",
   "execution_count": 10,
   "id": "6c47c319",
   "metadata": {},
   "outputs": [
    {
     "name": "stdout",
     "output_type": "stream",
     "text": [
      "Y      Apple  Berry  Carrot  Mango  Melon  Orange  Peach\n",
      "X14                                                     \n",
      " CA21      0     91     101     37      0       0      0\n",
      " CA22      0    143      70      7     47       0      0\n",
      " CA23      0     59     607      0      0       0      0\n",
      " CA24      4    153      98      2     93       0      0\n",
      " CA25      0     34      25     30      0       0      0\n",
      " CA26      0    187     187      0      0       0      0\n",
      " CA30      1    509     125     38     47       0      0\n",
      " CA31      3     41      21      0    107       0      0\n",
      " CA32     22      0       0      0      0      21      0\n",
      " CA33      5      1       0     51    234       0      0\n",
      " CA34      0      2     100      0      0       0      0\n",
      " CA36      8      2      27      0      8       6      0\n",
      " CA37      2     25     259      0     88       0      0\n",
      " CA38      0      0       0      0     33      12      0\n",
      " CA39      8      0       0      0     15       0      0\n",
      " CA40     27      0       0     22      5       4      0\n",
      " CA41     10      0       0      0      0       0      0\n",
      " CA42    134      0       0      0      0       0      0\n",
      " CA43    240      0       0      0    122       1     25\n",
      " CA44     57      0       0      5      6       6      0\n",
      " CA46      5      0       0      0     22       0      0\n",
      " CA48      0      0       0      0      2       0      0\n",
      " CA49    297      0       0      0    193      39     57\n",
      " CA50     60      0       0      0    358      11      7\n",
      " CA51     65      0       0      5     60       0      2\n",
      " CA52    137      3       0      0     84       0      0\n",
      " CA53     67      0       0     51     44       0      1\n",
      " CA54      0      0       0      2      3       0      0\n",
      " CA55      1      0       0      0      0       0      0\n",
      " CA58     55      0       0      0      0       0     90\n",
      " CA59     42      0       0      0      0       0    101\n",
      " CA60     25      0       0      0      0       0     25\n"
     ]
    }
   ],
   "source": [
    "CrosstabResult=pd.crosstab(index=df['X14'],columns=df['Y'])\n",
    "print(CrosstabResult)"
   ]
  },
  {
   "cell_type": "code",
   "execution_count": 11,
   "id": "f264cb98",
   "metadata": {},
   "outputs": [
    {
     "name": "stdout",
     "output_type": "stream",
     "text": [
      "Y    Apple  Berry  Carrot  Mango  Melon  Orange  Peach\n",
      "X15                                                   \n",
      "R        0      0       1      0      0       0      0\n",
      "R1      34     38      53      6     38       6     12\n",
      "R2      39     44      37     12     55       6      9\n",
      "R3      57     54      50     12     55       4      9\n"
     ]
    }
   ],
   "source": [
    "CrosstabResult=pd.crosstab(index=df['X15'],columns=df['Y'])\n",
    "print(CrosstabResult)"
   ]
  },
  {
   "cell_type": "code",
   "execution_count": 12,
   "id": "f12327cd",
   "metadata": {},
   "outputs": [
    {
     "name": "stdout",
     "output_type": "stream",
     "text": [
      "X14     CA21   CA22   CA23   CA24   CA25   CA26   CA30   CA31   CA32   CA33  \\\n",
      "X13                                                                           \n",
      " FC11      0      0      0      0      0      0      0      0     43      0   \n",
      " FC12      0      0      0      0      0      0      0      0      0      0   \n",
      " FC13      0    129      0    219      0      0     94    140      0    291   \n",
      " FC14    229    138    666    131     89    374    626     32      0      0   \n",
      "\n",
      "X14    ...   CA49   CA50   CA51   CA52   CA53   CA54   CA55   CA58   CA59  \\\n",
      "X13    ...                                                                  \n",
      " FC11  ...    586    436      0      0      0      0      1    125    108   \n",
      " FC12  ...      0      0      0      0      0      0      0      0      0   \n",
      " FC13  ...      0      0    132    224    163      5      0     20     35   \n",
      " FC14  ...      0      0      0      0      0      0      0      0      0   \n",
      "\n",
      "X14     CA60  \n",
      "X13           \n",
      " FC11     50  \n",
      " FC12      0  \n",
      " FC13      0  \n",
      " FC14      0  \n",
      "\n",
      "[4 rows x 32 columns]\n"
     ]
    }
   ],
   "source": [
    "CrosstabResult=pd.crosstab(index=df['X13'],columns=df['X14'])\n",
    "print(CrosstabResult)"
   ]
  },
  {
   "cell_type": "code",
   "execution_count": 13,
   "id": "9c4be08e",
   "metadata": {},
   "outputs": [
    {
     "name": "stdout",
     "output_type": "stream",
     "text": [
      "X15    R  R1  R2  R3\n",
      "X13                 \n",
      " FC11  0  49  70  73\n",
      " FC12  0   1   0   0\n",
      " FC13  0  56  57  70\n",
      " FC14  1  81  75  98\n"
     ]
    }
   ],
   "source": [
    "CrosstabResult=pd.crosstab(index=df['X13'],columns=df['X15'])\n",
    "print(CrosstabResult)"
   ]
  },
  {
   "cell_type": "code",
   "execution_count": 14,
   "id": "14296119",
   "metadata": {},
   "outputs": [
    {
     "name": "stdout",
     "output_type": "stream",
     "text": [
      "X15    R  R1  R2  R3\n",
      "X14                 \n",
      " CA21  0   5   6   8\n",
      " CA22  0  11   8  11\n",
      " CA23  0  18  23  13\n",
      " CA24  0  16  10  13\n",
      " CA25  0   3   1   5\n",
      " CA26  0  16   8  19\n",
      " CA30  0  18  23  30\n",
      " CA31  0   6   6   8\n",
      " CA32  0   2   0   1\n",
      " CA33  0   6   8  10\n",
      " CA34  0   4   2   4\n",
      " CA36  0   0   1   1\n",
      " CA37  1   8  12  12\n",
      " CA38  0   2   3   2\n",
      " CA39  0   0   0   1\n",
      " CA40  0   0   1   4\n",
      " CA42  0   4   3   6\n",
      " CA43  0  13   9  17\n",
      " CA44  0   2   4   3\n",
      " CA49  0  19  30  18\n",
      " CA50  0   8  17  17\n",
      " CA51  0   5   7   6\n",
      " CA52  0   4   6  12\n",
      " CA53  0   5   5   6\n",
      " CA58  0   6   3   4\n",
      " CA59  0   4   6   5\n",
      " CA60  0   2   0   5\n"
     ]
    }
   ],
   "source": [
    "CrosstabResult=pd.crosstab(index=df['X14'],columns=df['X15'])\n",
    "print(CrosstabResult)"
   ]
  },
  {
   "cell_type": "markdown",
   "id": "c7c7daac",
   "metadata": {},
   "source": [
    "## Dealing with missing values"
   ]
  },
  {
   "cell_type": "markdown",
   "id": "2d4e85ec",
   "metadata": {},
   "source": [
    "### Since X15 has many more than 90% of its value as Nan we will drop it and for X2 we can fill it with the column mean since only less than 10% Nan"
   ]
  },
  {
   "cell_type": "code",
   "execution_count": 15,
   "id": "c7a72074",
   "metadata": {},
   "outputs": [],
   "source": [
    "df.drop('X15', axis=1, inplace=True)"
   ]
  },
  {
   "cell_type": "code",
   "execution_count": 16,
   "id": "04b45a0a",
   "metadata": {},
   "outputs": [],
   "source": [
    "df['X2'] = df['X2'].fillna(df['X2'].mean())"
   ]
  },
  {
   "cell_type": "code",
   "execution_count": 17,
   "id": "0d3e34e4",
   "metadata": {},
   "outputs": [
    {
     "data": {
      "text/plain": [
       "X1     0\n",
       "X2     0\n",
       "X3     0\n",
       "X4     0\n",
       "X5     0\n",
       "X6     0\n",
       "X7     0\n",
       "X8     0\n",
       "X9     0\n",
       "X10    0\n",
       "X11    0\n",
       "X12    0\n",
       "X13    0\n",
       "X14    0\n",
       "Y      0\n",
       "dtype: int64"
      ]
     },
     "execution_count": 17,
     "metadata": {},
     "output_type": "execute_result"
    }
   ],
   "source": [
    "df.isnull().sum()"
   ]
  },
  {
   "cell_type": "markdown",
   "id": "97a690a5",
   "metadata": {},
   "source": [
    "## One hot encoding"
   ]
  },
  {
   "cell_type": "code",
   "execution_count": 18,
   "id": "be5fb79c",
   "metadata": {},
   "outputs": [],
   "source": [
    "df = pd.get_dummies(\n",
    "    data=df,\n",
    "    columns=[\"X13\", \"X14\"],\n",
    "    prefix=[\"X13\", \"X14\"])\n",
    "\n",
    "df = df.reindex(sorted(df.columns), axis=1)"
   ]
  },
  {
   "cell_type": "code",
   "execution_count": 19,
   "id": "6246dc0d",
   "metadata": {},
   "outputs": [
    {
     "data": {
      "text/html": [
       "<div>\n",
       "<style scoped>\n",
       "    .dataframe tbody tr th:only-of-type {\n",
       "        vertical-align: middle;\n",
       "    }\n",
       "\n",
       "    .dataframe tbody tr th {\n",
       "        vertical-align: top;\n",
       "    }\n",
       "\n",
       "    .dataframe thead th {\n",
       "        text-align: right;\n",
       "    }\n",
       "</style>\n",
       "<table border=\"1\" class=\"dataframe\">\n",
       "  <thead>\n",
       "    <tr style=\"text-align: right;\">\n",
       "      <th></th>\n",
       "      <th>X1</th>\n",
       "      <th>X10</th>\n",
       "      <th>X11</th>\n",
       "      <th>X12</th>\n",
       "      <th>X13_ FC11</th>\n",
       "      <th>X13_ FC12</th>\n",
       "      <th>X13_ FC13</th>\n",
       "      <th>X13_ FC14</th>\n",
       "      <th>X14_ CA21</th>\n",
       "      <th>X14_ CA22</th>\n",
       "      <th>...</th>\n",
       "      <th>X14_ CA60</th>\n",
       "      <th>X2</th>\n",
       "      <th>X3</th>\n",
       "      <th>X4</th>\n",
       "      <th>X5</th>\n",
       "      <th>X6</th>\n",
       "      <th>X7</th>\n",
       "      <th>X8</th>\n",
       "      <th>X9</th>\n",
       "      <th>Y</th>\n",
       "    </tr>\n",
       "  </thead>\n",
       "  <tbody>\n",
       "    <tr>\n",
       "      <th>0</th>\n",
       "      <td>2709</td>\n",
       "      <td>2114</td>\n",
       "      <td>0.66</td>\n",
       "      <td>269</td>\n",
       "      <td>1</td>\n",
       "      <td>0</td>\n",
       "      <td>0</td>\n",
       "      <td>0</td>\n",
       "      <td>0</td>\n",
       "      <td>0</td>\n",
       "      <td>...</td>\n",
       "      <td>0</td>\n",
       "      <td>59.0</td>\n",
       "      <td>11</td>\n",
       "      <td>120</td>\n",
       "      <td>43</td>\n",
       "      <td>150</td>\n",
       "      <td>228</td>\n",
       "      <td>217</td>\n",
       "      <td>120</td>\n",
       "      <td>Melon</td>\n",
       "    </tr>\n",
       "    <tr>\n",
       "      <th>1</th>\n",
       "      <td>2802</td>\n",
       "      <td>162</td>\n",
       "      <td>0.35</td>\n",
       "      <td>195</td>\n",
       "      <td>1</td>\n",
       "      <td>0</td>\n",
       "      <td>0</td>\n",
       "      <td>0</td>\n",
       "      <td>0</td>\n",
       "      <td>0</td>\n",
       "      <td>...</td>\n",
       "      <td>0</td>\n",
       "      <td>54.0</td>\n",
       "      <td>7</td>\n",
       "      <td>0</td>\n",
       "      <td>0</td>\n",
       "      <td>693</td>\n",
       "      <td>224</td>\n",
       "      <td>225</td>\n",
       "      <td>136</td>\n",
       "      <td>Melon</td>\n",
       "    </tr>\n",
       "    <tr>\n",
       "      <th>2</th>\n",
       "      <td>2325</td>\n",
       "      <td>162</td>\n",
       "      <td>0.89</td>\n",
       "      <td>750</td>\n",
       "      <td>0</td>\n",
       "      <td>0</td>\n",
       "      <td>0</td>\n",
       "      <td>1</td>\n",
       "      <td>0</td>\n",
       "      <td>0</td>\n",
       "      <td>...</td>\n",
       "      <td>0</td>\n",
       "      <td>28.0</td>\n",
       "      <td>12</td>\n",
       "      <td>0</td>\n",
       "      <td>0</td>\n",
       "      <td>1260</td>\n",
       "      <td>215</td>\n",
       "      <td>213</td>\n",
       "      <td>133</td>\n",
       "      <td>Carrot</td>\n",
       "    </tr>\n",
       "    <tr>\n",
       "      <th>3</th>\n",
       "      <td>2837</td>\n",
       "      <td>6221</td>\n",
       "      <td>0.27</td>\n",
       "      <td>-155</td>\n",
       "      <td>1</td>\n",
       "      <td>0</td>\n",
       "      <td>0</td>\n",
       "      <td>0</td>\n",
       "      <td>0</td>\n",
       "      <td>0</td>\n",
       "      <td>...</td>\n",
       "      <td>0</td>\n",
       "      <td>112.0</td>\n",
       "      <td>8</td>\n",
       "      <td>272</td>\n",
       "      <td>16</td>\n",
       "      <td>3649</td>\n",
       "      <td>235</td>\n",
       "      <td>231</td>\n",
       "      <td>128</td>\n",
       "      <td>Orange</td>\n",
       "    </tr>\n",
       "    <tr>\n",
       "      <th>4</th>\n",
       "      <td>2509</td>\n",
       "      <td>5184</td>\n",
       "      <td>0.93</td>\n",
       "      <td>88</td>\n",
       "      <td>1</td>\n",
       "      <td>0</td>\n",
       "      <td>0</td>\n",
       "      <td>0</td>\n",
       "      <td>0</td>\n",
       "      <td>0</td>\n",
       "      <td>...</td>\n",
       "      <td>0</td>\n",
       "      <td>59.0</td>\n",
       "      <td>7</td>\n",
       "      <td>134</td>\n",
       "      <td>10</td>\n",
       "      <td>900</td>\n",
       "      <td>226</td>\n",
       "      <td>226</td>\n",
       "      <td>134</td>\n",
       "      <td>Melon</td>\n",
       "    </tr>\n",
       "    <tr>\n",
       "      <th>...</th>\n",
       "      <td>...</td>\n",
       "      <td>...</td>\n",
       "      <td>...</td>\n",
       "      <td>...</td>\n",
       "      <td>...</td>\n",
       "      <td>...</td>\n",
       "      <td>...</td>\n",
       "      <td>...</td>\n",
       "      <td>...</td>\n",
       "      <td>...</td>\n",
       "      <td>...</td>\n",
       "      <td>...</td>\n",
       "      <td>...</td>\n",
       "      <td>...</td>\n",
       "      <td>...</td>\n",
       "      <td>...</td>\n",
       "      <td>...</td>\n",
       "      <td>...</td>\n",
       "      <td>...</td>\n",
       "      <td>...</td>\n",
       "      <td>...</td>\n",
       "    </tr>\n",
       "    <tr>\n",
       "      <th>6369</th>\n",
       "      <td>3101</td>\n",
       "      <td>1657</td>\n",
       "      <td>0.50</td>\n",
       "      <td>437</td>\n",
       "      <td>1</td>\n",
       "      <td>0</td>\n",
       "      <td>0</td>\n",
       "      <td>0</td>\n",
       "      <td>0</td>\n",
       "      <td>0</td>\n",
       "      <td>...</td>\n",
       "      <td>0</td>\n",
       "      <td>67.0</td>\n",
       "      <td>6</td>\n",
       "      <td>170</td>\n",
       "      <td>1</td>\n",
       "      <td>824</td>\n",
       "      <td>227</td>\n",
       "      <td>228</td>\n",
       "      <td>135</td>\n",
       "      <td>Apple</td>\n",
       "    </tr>\n",
       "    <tr>\n",
       "      <th>6370</th>\n",
       "      <td>3050</td>\n",
       "      <td>5770</td>\n",
       "      <td>0.74</td>\n",
       "      <td>53</td>\n",
       "      <td>1</td>\n",
       "      <td>0</td>\n",
       "      <td>0</td>\n",
       "      <td>0</td>\n",
       "      <td>0</td>\n",
       "      <td>0</td>\n",
       "      <td>...</td>\n",
       "      <td>0</td>\n",
       "      <td>139.0</td>\n",
       "      <td>13</td>\n",
       "      <td>30</td>\n",
       "      <td>-3</td>\n",
       "      <td>3127</td>\n",
       "      <td>240</td>\n",
       "      <td>235</td>\n",
       "      <td>123</td>\n",
       "      <td>Apple</td>\n",
       "    </tr>\n",
       "    <tr>\n",
       "      <th>6371</th>\n",
       "      <td>2080</td>\n",
       "      <td>108</td>\n",
       "      <td>0.88</td>\n",
       "      <td>-79</td>\n",
       "      <td>0</td>\n",
       "      <td>0</td>\n",
       "      <td>0</td>\n",
       "      <td>1</td>\n",
       "      <td>0</td>\n",
       "      <td>0</td>\n",
       "      <td>...</td>\n",
       "      <td>0</td>\n",
       "      <td>106.0</td>\n",
       "      <td>24</td>\n",
       "      <td>30</td>\n",
       "      <td>12</td>\n",
       "      <td>582</td>\n",
       "      <td>252</td>\n",
       "      <td>202</td>\n",
       "      <td>64</td>\n",
       "      <td>Carrot</td>\n",
       "    </tr>\n",
       "    <tr>\n",
       "      <th>6372</th>\n",
       "      <td>3011</td>\n",
       "      <td>6632</td>\n",
       "      <td>0.67</td>\n",
       "      <td>-299</td>\n",
       "      <td>1</td>\n",
       "      <td>0</td>\n",
       "      <td>0</td>\n",
       "      <td>0</td>\n",
       "      <td>0</td>\n",
       "      <td>0</td>\n",
       "      <td>...</td>\n",
       "      <td>0</td>\n",
       "      <td>108.0</td>\n",
       "      <td>10</td>\n",
       "      <td>212</td>\n",
       "      <td>36</td>\n",
       "      <td>2912</td>\n",
       "      <td>237</td>\n",
       "      <td>229</td>\n",
       "      <td>122</td>\n",
       "      <td>Apple</td>\n",
       "    </tr>\n",
       "    <tr>\n",
       "      <th>6373</th>\n",
       "      <td>1980</td>\n",
       "      <td>927</td>\n",
       "      <td>0.93</td>\n",
       "      <td>809</td>\n",
       "      <td>0</td>\n",
       "      <td>0</td>\n",
       "      <td>0</td>\n",
       "      <td>1</td>\n",
       "      <td>1</td>\n",
       "      <td>0</td>\n",
       "      <td>...</td>\n",
       "      <td>0</td>\n",
       "      <td>3.0</td>\n",
       "      <td>22</td>\n",
       "      <td>300</td>\n",
       "      <td>125</td>\n",
       "      <td>300</td>\n",
       "      <td>185</td>\n",
       "      <td>193</td>\n",
       "      <td>140</td>\n",
       "      <td>Mango</td>\n",
       "    </tr>\n",
       "  </tbody>\n",
       "</table>\n",
       "<p>6374 rows × 49 columns</p>\n",
       "</div>"
      ],
      "text/plain": [
       "        X1   X10   X11  X12  X13_ FC11  X13_ FC12  X13_ FC13  X13_ FC14  \\\n",
       "0     2709  2114  0.66  269          1          0          0          0   \n",
       "1     2802   162  0.35  195          1          0          0          0   \n",
       "2     2325   162  0.89  750          0          0          0          1   \n",
       "3     2837  6221  0.27 -155          1          0          0          0   \n",
       "4     2509  5184  0.93   88          1          0          0          0   \n",
       "...    ...   ...   ...  ...        ...        ...        ...        ...   \n",
       "6369  3101  1657  0.50  437          1          0          0          0   \n",
       "6370  3050  5770  0.74   53          1          0          0          0   \n",
       "6371  2080   108  0.88  -79          0          0          0          1   \n",
       "6372  3011  6632  0.67 -299          1          0          0          0   \n",
       "6373  1980   927  0.93  809          0          0          0          1   \n",
       "\n",
       "      X14_ CA21  X14_ CA22  ...  X14_ CA60     X2  X3   X4   X5    X6   X7  \\\n",
       "0             0          0  ...          0   59.0  11  120   43   150  228   \n",
       "1             0          0  ...          0   54.0   7    0    0   693  224   \n",
       "2             0          0  ...          0   28.0  12    0    0  1260  215   \n",
       "3             0          0  ...          0  112.0   8  272   16  3649  235   \n",
       "4             0          0  ...          0   59.0   7  134   10   900  226   \n",
       "...         ...        ...  ...        ...    ...  ..  ...  ...   ...  ...   \n",
       "6369          0          0  ...          0   67.0   6  170    1   824  227   \n",
       "6370          0          0  ...          0  139.0  13   30   -3  3127  240   \n",
       "6371          0          0  ...          0  106.0  24   30   12   582  252   \n",
       "6372          0          0  ...          0  108.0  10  212   36  2912  237   \n",
       "6373          1          0  ...          0    3.0  22  300  125   300  185   \n",
       "\n",
       "       X8   X9       Y  \n",
       "0     217  120   Melon  \n",
       "1     225  136   Melon  \n",
       "2     213  133  Carrot  \n",
       "3     231  128  Orange  \n",
       "4     226  134   Melon  \n",
       "...   ...  ...     ...  \n",
       "6369  228  135   Apple  \n",
       "6370  235  123   Apple  \n",
       "6371  202   64  Carrot  \n",
       "6372  229  122   Apple  \n",
       "6373  193  140   Mango  \n",
       "\n",
       "[6374 rows x 49 columns]"
      ]
     },
     "execution_count": 19,
     "metadata": {},
     "output_type": "execute_result"
    }
   ],
   "source": [
    "df"
   ]
  },
  {
   "cell_type": "markdown",
   "id": "ff34390e",
   "metadata": {},
   "source": [
    "## Resolving imbalanced data"
   ]
  },
  {
   "cell_type": "code",
   "execution_count": 20,
   "id": "27d02179",
   "metadata": {},
   "outputs": [],
   "source": [
    "# create X_data, y_data\n",
    "X_data = df.iloc[:,:-1].values\n",
    "y_data = df.iloc[:,-1].values"
   ]
  },
  {
   "cell_type": "code",
   "execution_count": 21,
   "id": "ad53e209",
   "metadata": {},
   "outputs": [],
   "source": [
    "# split into train-val-test\n",
    "X_train, X_test, y_train, y_test = train_test_split(X_data, y_data, train_size=0.7, random_state=777, stratify=y_data)\n",
    "X_test, X_val, y_test, y_val = train_test_split(X_test, y_test, train_size=0.5, random_state=777, stratify=y_test)"
   ]
  },
  {
   "cell_type": "code",
   "execution_count": 22,
   "id": "626568fa",
   "metadata": {},
   "outputs": [
    {
     "data": {
      "text/plain": [
       "(array(['Apple', 'Berry', 'Carrot', 'Mango', 'Melon', 'Orange', 'Peach'],\n",
       "       dtype=object),\n",
       " array([1275, 1250, 1620,  250, 1571,  100,  308], dtype=int64))"
      ]
     },
     "execution_count": 22,
     "metadata": {},
     "output_type": "execute_result"
    }
   ],
   "source": [
    "np.unique(y_data, return_counts=True)"
   ]
  },
  {
   "cell_type": "code",
   "execution_count": 23,
   "id": "7f2048bf",
   "metadata": {},
   "outputs": [
    {
     "name": "stdout",
     "output_type": "stream",
     "text": [
      "X_train= (7938, 48), X_val= (957, 48), X_test= (956, 48)\n",
      "\n",
      "class % in y_train = [0.14 0.14 0.14 0.14 0.14 0.14 0.14]\n"
     ]
    }
   ],
   "source": [
    "from imblearn.over_sampling import SMOTE\n",
    "oversample = SMOTE()\n",
    "X_train, y_train = oversample.fit_resample(X_train, y_train)\n",
    "print('X_train= {}, X_val= {}, X_test= {}'.format(X_train.shape, X_val.shape, X_test.shape))\n",
    "\n",
    "print()\n",
    "print('class % in y_train = {}'.format((np.unique(y_train, return_counts=True)[1]/y_train.shape[0]).round(2)))"
   ]
  },
  {
   "cell_type": "code",
   "execution_count": 24,
   "id": "d34fb68b",
   "metadata": {},
   "outputs": [
    {
     "name": "stdout",
     "output_type": "stream",
     "text": [
      "X_data=(6374, 48)\n",
      "X_train=(7938, 48), X_val=(957, 48), X_test=(956, 48)\n",
      "y_train=(7938,), y_val=(957,), y_test=(956,)\n",
      "\n",
      "class % in y_train = [0.14 0.14 0.14 0.14 0.14 0.14 0.14]\n",
      "class % in y_val = [0.2  0.2  0.25 0.04 0.25 0.02 0.05]\n",
      "class % in y_test = [0.2  0.2  0.25 0.04 0.25 0.02 0.05]\n"
     ]
    }
   ],
   "source": [
    "print('X_data={}'.format(X_data.shape))\n",
    "print('X_train={}, X_val={}, X_test={}'.format(X_train.shape, X_val.shape, X_test.shape))\n",
    "print('y_train={}, y_val={}, y_test={}'.format(y_train.shape, y_val.shape, y_test.shape))\n",
    "print()\n",
    "print('class % in y_train = {}'.format((np.unique(y_train, return_counts=True)[1]/y_train.shape[0]).round(2)))\n",
    "print('class % in y_val = {}'.format((np.unique(y_val, return_counts=True)[1]/y_val.shape[0]).round(2)))\n",
    "print('class % in y_test = {}'.format((np.unique(y_test, return_counts=True)[1]/y_test.shape[0]).round(2)))"
   ]
  },
  {
   "cell_type": "code",
   "execution_count": 25,
   "id": "738e9e67",
   "metadata": {},
   "outputs": [
    {
     "data": {
      "text/plain": [
       "(array(['Apple', 'Berry', 'Carrot', 'Mango', 'Melon', 'Orange', 'Peach'],\n",
       "       dtype=object),\n",
       " array([1134, 1134, 1134, 1134, 1134, 1134, 1134], dtype=int64))"
      ]
     },
     "execution_count": 25,
     "metadata": {},
     "output_type": "execute_result"
    }
   ],
   "source": [
    "np.unique(y_train, return_counts=True)"
   ]
  },
  {
   "cell_type": "markdown",
   "id": "8b88fbf4",
   "metadata": {},
   "source": [
    "## Feature engineering"
   ]
  },
  {
   "cell_type": "code",
   "execution_count": 26,
   "id": "5d6d2693",
   "metadata": {},
   "outputs": [],
   "source": [
    "# standard-scale using StandardScaler\n",
    "scaler = StandardScaler()\n",
    "scaler.fit(X_train)\n",
    "\n",
    "X_train = scaler.transform(X_train)\n",
    "X_val = scaler.transform(X_val)\n",
    "X_test = scaler.transform(X_test)"
   ]
  },
  {
   "cell_type": "markdown",
   "id": "1c9d90e5",
   "metadata": {},
   "source": [
    "## Appropriate measures"
   ]
  },
  {
   "cell_type": "code",
   "execution_count": 27,
   "id": "1f50a733",
   "metadata": {},
   "outputs": [],
   "source": [
    "from sklearn.metrics import f1_score, make_scorer, classification_report, confusion_matrix, accuracy_score\n",
    "\n",
    "f1 = make_scorer(f1_score, average='macro')"
   ]
  },
  {
   "cell_type": "markdown",
   "id": "a84cd69c",
   "metadata": {},
   "source": [
    "# Training classifiers"
   ]
  },
  {
   "cell_type": "markdown",
   "id": "4466af95",
   "metadata": {},
   "source": [
    "### KNN"
   ]
  },
  {
   "cell_type": "code",
   "execution_count": 28,
   "id": "02774a53",
   "metadata": {},
   "outputs": [],
   "source": [
    "from sklearn.neighbors import KNeighborsClassifier\n",
    "from sklearn.model_selection import GridSearchCV\n",
    "\n",
    "param_grid = { 'p': [1,2],  \n",
    "    \"algorithm\":['auto', 'ball_tree', 'kd_tree', 'brute'],\n",
    "    'n_neighbors':[1, 2, 3, 4, 5, 6, 8, 9, 10,15,20,25],  }"
   ]
  },
  {
   "cell_type": "code",
   "execution_count": 29,
   "id": "90122e80",
   "metadata": {},
   "outputs": [
    {
     "name": "stdout",
     "output_type": "stream",
     "text": [
      "Fitting 5 folds for each of 96 candidates, totalling 480 fits\n",
      "{'algorithm': 'auto', 'n_neighbors': 1, 'p': 1}\n"
     ]
    }
   ],
   "source": [
    "grid_search_KNN= GridSearchCV(sklearn.neighbors.KNeighborsClassifier(), param_grid, verbose = 1, n_jobs=-1, scoring=f1)   \n",
    "\n",
    "grid_search_KNN.fit(X_train, y_train)  \n",
    "\n",
    "print(grid_search_KNN.best_params_)"
   ]
  },
  {
   "cell_type": "code",
   "execution_count": 30,
   "id": "0f447be1",
   "metadata": {},
   "outputs": [
    {
     "name": "stdout",
     "output_type": "stream",
     "text": [
      "The validation acccuracy is: 0.840\n",
      "The f1 score is: 0.791\n"
     ]
    }
   ],
   "source": [
    "y_pred_on_val = grid_search_KNN.predict(X_val)\n",
    "print(\"The training acccuracy is: %.3f\" % grid_search_KNN.best_score_)\n",
    "print(\"The validation acccuracy is: %.3f\" % sklearn.metrics.accuracy_score(y_val, y_pred_on_val))\n",
    "print(\"The f1 score is: %.3f\" % f1_score(y_val, y_pred_on_val, average='macro'))"
   ]
  },
  {
   "cell_type": "markdown",
   "id": "1b4243e6",
   "metadata": {},
   "source": [
    "### Decision Tree"
   ]
  },
  {
   "cell_type": "code",
   "execution_count": 32,
   "id": "3356d899",
   "metadata": {},
   "outputs": [
    {
     "name": "stdout",
     "output_type": "stream",
     "text": [
      "Fitting 5 folds for each of 128 candidates, totalling 640 fits\n",
      "{'criterion': 'entropy', 'max_depth': 50, 'max_features': 'sqrt', 'splitter': 'best'}\n"
     ]
    }
   ],
   "source": [
    "from sklearn.tree import DecisionTreeClassifier\n",
    "\n",
    "param_grid_TREE = { 'max_features': ['sqrt', 'log2'],\n",
    "                    'criterion': ['gini', 'entropy'],  \n",
    "                    'splitter':['best', 'random'],\n",
    "                    'max_depth':[1, 2, 3, 4, 5, 6, 8, 9, 10, 15, 20,  30, 50, 80, 100, 130]}\n",
    "\n",
    "grid_search_dTree=GridSearchCV(DecisionTreeClassifier(), param_grid_TREE, verbose = 1, n_jobs=-1, scoring=f1)   \n",
    "\n",
    "grid_search_dTree = grid_search_dTree.fit(X_train,y_train)\n",
    "\n",
    "print(grid_search_dTree.best_params_) "
   ]
  },
  {
   "cell_type": "code",
   "execution_count": 33,
   "id": "9ab35f6f",
   "metadata": {},
   "outputs": [
    {
     "name": "stdout",
     "output_type": "stream",
     "text": [
      "The validation acccuracy is: 0.790\n",
      "The f1 score is: 0.706\n"
     ]
    }
   ],
   "source": [
    "y_pred_on_val = grid_search_dTree.predict(X_val)\n",
    "print(\"The training acccuracy is: %.3f\" % grid_search_dTree.best_score_)\n",
    "print(\"The validation acccuracy is: %.3f\" % sklearn.metrics.accuracy_score(y_val, y_pred_on_val))\n",
    "print(\"The f1 score is: %.3f\" % f1_score(y_val, y_pred_on_val, average='macro'))"
   ]
  },
  {
   "cell_type": "markdown",
   "id": "95b9fe3b",
   "metadata": {},
   "source": [
    "**This shows the features importance for this model**"
   ]
  },
  {
   "cell_type": "code",
   "execution_count": 124,
   "id": "81e6d9cd",
   "metadata": {},
   "outputs": [
    {
     "data": {
      "text/html": [
       "<div>\n",
       "<style scoped>\n",
       "    .dataframe tbody tr th:only-of-type {\n",
       "        vertical-align: middle;\n",
       "    }\n",
       "\n",
       "    .dataframe tbody tr th {\n",
       "        vertical-align: top;\n",
       "    }\n",
       "\n",
       "    .dataframe thead th {\n",
       "        text-align: right;\n",
       "    }\n",
       "</style>\n",
       "<table border=\"1\" class=\"dataframe\">\n",
       "  <thead>\n",
       "    <tr style=\"text-align: right;\">\n",
       "      <th></th>\n",
       "      <th>0</th>\n",
       "      <th>6</th>\n",
       "      <th>30</th>\n",
       "      <th>44</th>\n",
       "      <th>1</th>\n",
       "      <th>47</th>\n",
       "      <th>38</th>\n",
       "      <th>42</th>\n",
       "      <th>41</th>\n",
       "      <th>43</th>\n",
       "      <th>...</th>\n",
       "      <th>28</th>\n",
       "      <th>5</th>\n",
       "      <th>35</th>\n",
       "      <th>12</th>\n",
       "      <th>16</th>\n",
       "      <th>18</th>\n",
       "      <th>19</th>\n",
       "      <th>36</th>\n",
       "      <th>29</th>\n",
       "      <th>24</th>\n",
       "    </tr>\n",
       "  </thead>\n",
       "  <tbody>\n",
       "    <tr>\n",
       "      <th>Varname</th>\n",
       "      <td>X1</td>\n",
       "      <td>X13_ FC13</td>\n",
       "      <td>X14_ CA49</td>\n",
       "      <td>X6</td>\n",
       "      <td>X10</td>\n",
       "      <td>X9</td>\n",
       "      <td>X14_ CA59</td>\n",
       "      <td>X4</td>\n",
       "      <td>X3</td>\n",
       "      <td>X5</td>\n",
       "      <td>...</td>\n",
       "      <td>X14_ CA46</td>\n",
       "      <td>X13_ FC12</td>\n",
       "      <td>X14_ CA54</td>\n",
       "      <td>X14_ CA25</td>\n",
       "      <td>X14_ CA32</td>\n",
       "      <td>X14_ CA34</td>\n",
       "      <td>X14_ CA36</td>\n",
       "      <td>X14_ CA55</td>\n",
       "      <td>X14_ CA48</td>\n",
       "      <td>X14_ CA41</td>\n",
       "    </tr>\n",
       "    <tr>\n",
       "      <th>Imp</th>\n",
       "      <td>0.307462</td>\n",
       "      <td>0.083246</td>\n",
       "      <td>0.066406</td>\n",
       "      <td>0.062739</td>\n",
       "      <td>0.062116</td>\n",
       "      <td>0.047398</td>\n",
       "      <td>0.046127</td>\n",
       "      <td>0.045303</td>\n",
       "      <td>0.041383</td>\n",
       "      <td>0.030425</td>\n",
       "      <td>...</td>\n",
       "      <td>0.00034</td>\n",
       "      <td>0.000275</td>\n",
       "      <td>0.000183</td>\n",
       "      <td>0.000157</td>\n",
       "      <td>0.00009</td>\n",
       "      <td>0.00005</td>\n",
       "      <td>0.000011</td>\n",
       "      <td>0.0</td>\n",
       "      <td>0.0</td>\n",
       "      <td>0.0</td>\n",
       "    </tr>\n",
       "  </tbody>\n",
       "</table>\n",
       "<p>2 rows × 48 columns</p>\n",
       "</div>"
      ],
      "text/plain": [
       "               0          6          30        44        1         47  \\\n",
       "Varname        X1  X13_ FC13  X14_ CA49        X6       X10        X9   \n",
       "Imp      0.307462   0.083246   0.066406  0.062739  0.062116  0.047398   \n",
       "\n",
       "                38        42        41        43  ...         28         5   \\\n",
       "Varname  X14_ CA59        X4        X3        X5  ...  X14_ CA46  X13_ FC12   \n",
       "Imp       0.046127  0.045303  0.041383  0.030425  ...    0.00034   0.000275   \n",
       "\n",
       "                35         12         16         18         19         36  \\\n",
       "Varname  X14_ CA54  X14_ CA25  X14_ CA32  X14_ CA34  X14_ CA36  X14_ CA55   \n",
       "Imp       0.000183   0.000157    0.00009    0.00005   0.000011        0.0   \n",
       "\n",
       "                29         24  \n",
       "Varname  X14_ CA48  X14_ CA41  \n",
       "Imp            0.0        0.0  \n",
       "\n",
       "[2 rows x 48 columns]"
      ]
     },
     "execution_count": 124,
     "metadata": {},
     "output_type": "execute_result"
    }
   ],
   "source": [
    "dTree_best = grid_search_dTree.best_estimator_\n",
    "imp_df = pd.DataFrame({\n",
    "    \"Varname\": df.columns.drop('Y'),\n",
    "    \"Imp\": dTree_best.feature_importances_\n",
    "})\n",
    "imp_df.sort_values(by=\"Imp\", ascending=False).T"
   ]
  },
  {
   "cell_type": "markdown",
   "id": "81317e5b",
   "metadata": {},
   "source": [
    "### Neural Network"
   ]
  },
  {
   "cell_type": "code",
   "execution_count": 35,
   "id": "fe82da50",
   "metadata": {},
   "outputs": [],
   "source": [
    "from sklearn.preprocessing import OneHotEncoder\n",
    "ohe = OneHotEncoder(categories='auto', sparse_output=False)\n",
    "y_train_OneHotEncoded = ohe.fit_transform(y_train[:, np.newaxis])\n",
    "y_val_OneHotEncoded = ohe.fit_transform(y_val[:, np.newaxis])"
   ]
  },
  {
   "cell_type": "code",
   "execution_count": 36,
   "id": "2d500a91",
   "metadata": {},
   "outputs": [],
   "source": [
    "from keras.models import Sequential\n",
    "from keras.layers import Dense\n",
    "model = Sequential()\n",
    "model.add(Dense(32, activation='relu', input_shape=(48,)))\n",
    "model.add(Dense(16, activation='relu'))\n",
    "model.add(Dense(7, activation='softmax'))"
   ]
  },
  {
   "cell_type": "code",
   "execution_count": 37,
   "id": "5864e9d1",
   "metadata": {},
   "outputs": [
    {
     "name": "stdout",
     "output_type": "stream",
     "text": [
      "Epoch 1/25\n",
      "249/249 [==============================] - 2s 3ms/step - loss: 1.3363 - accuracy: 0.5209\n",
      "Epoch 2/25\n",
      "249/249 [==============================] - 1s 3ms/step - loss: 0.6056 - accuracy: 0.7824\n",
      "Epoch 3/25\n",
      "249/249 [==============================] - 1s 3ms/step - loss: 0.4404 - accuracy: 0.8410\n",
      "Epoch 4/25\n",
      "249/249 [==============================] - 1s 3ms/step - loss: 0.3704 - accuracy: 0.8673\n",
      "Epoch 5/25\n",
      "249/249 [==============================] - 1s 3ms/step - loss: 0.3307 - accuracy: 0.8796\n",
      "Epoch 6/25\n",
      "249/249 [==============================] - 1s 3ms/step - loss: 0.3015 - accuracy: 0.8951\n",
      "Epoch 7/25\n",
      "249/249 [==============================] - 1s 3ms/step - loss: 0.2790 - accuracy: 0.9007\n",
      "Epoch 8/25\n",
      "249/249 [==============================] - 1s 3ms/step - loss: 0.2629 - accuracy: 0.9088\n",
      "Epoch 9/25\n",
      "249/249 [==============================] - 1s 3ms/step - loss: 0.2477 - accuracy: 0.9122\n",
      "Epoch 10/25\n",
      "249/249 [==============================] - 1s 3ms/step - loss: 0.2352 - accuracy: 0.9172\n",
      "Epoch 11/25\n",
      "249/249 [==============================] - 1s 3ms/step - loss: 0.2259 - accuracy: 0.9220\n",
      "Epoch 12/25\n",
      "249/249 [==============================] - 1s 3ms/step - loss: 0.2150 - accuracy: 0.9223\n",
      "Epoch 13/25\n",
      "249/249 [==============================] - 1s 3ms/step - loss: 0.2075 - accuracy: 0.9277\n",
      "Epoch 14/25\n",
      "249/249 [==============================] - 1s 3ms/step - loss: 0.1979 - accuracy: 0.9296\n",
      "Epoch 15/25\n",
      "249/249 [==============================] - 1s 3ms/step - loss: 0.1943 - accuracy: 0.9307\n",
      "Epoch 16/25\n",
      "249/249 [==============================] - 1s 3ms/step - loss: 0.1861 - accuracy: 0.9335\n",
      "Epoch 17/25\n",
      "249/249 [==============================] - 1s 3ms/step - loss: 0.1816 - accuracy: 0.9347\n",
      "Epoch 18/25\n",
      "249/249 [==============================] - 1s 3ms/step - loss: 0.1760 - accuracy: 0.9383\n",
      "Epoch 19/25\n",
      "249/249 [==============================] - 1s 3ms/step - loss: 0.1712 - accuracy: 0.9385\n",
      "Epoch 20/25\n",
      "249/249 [==============================] - 1s 3ms/step - loss: 0.1660 - accuracy: 0.9421\n",
      "Epoch 21/25\n",
      "249/249 [==============================] - 1s 3ms/step - loss: 0.1644 - accuracy: 0.9409\n",
      "Epoch 22/25\n",
      "249/249 [==============================] - 1s 3ms/step - loss: 0.1600 - accuracy: 0.9434\n",
      "Epoch 23/25\n",
      "249/249 [==============================] - 1s 3ms/step - loss: 0.1566 - accuracy: 0.9444\n",
      "Epoch 24/25\n",
      "249/249 [==============================] - 1s 3ms/step - loss: 0.1499 - accuracy: 0.9455\n",
      "Epoch 25/25\n",
      "249/249 [==============================] - 1s 3ms/step - loss: 0.1467 - accuracy: 0.9458\n"
     ]
    },
    {
     "data": {
      "text/plain": [
       "<keras.callbacks.History at 0x1241e3b6a60>"
      ]
     },
     "execution_count": 37,
     "metadata": {},
     "output_type": "execute_result"
    }
   ],
   "source": [
    "model.compile(loss='categorical_crossentropy', optimizer='adam', metrics=['accuracy'])\n",
    "model.fit(X_train, y_train_OneHotEncoded,epochs=25, batch_size=32, verbose=1)"
   ]
  },
  {
   "cell_type": "code",
   "execution_count": 38,
   "id": "e1e5ec75",
   "metadata": {},
   "outputs": [
    {
     "name": "stdout",
     "output_type": "stream",
     "text": [
      "30/30 [==============================] - 0s 3ms/step - loss: 0.3581 - accuracy: 0.8746\n"
     ]
    }
   ],
   "source": [
    "score = model.evaluate(X_val, y_val_OneHotEncoded, verbose=1)"
   ]
  },
  {
   "cell_type": "markdown",
   "id": "7828725a",
   "metadata": {},
   "source": [
    "### Random Forest"
   ]
  },
  {
   "cell_type": "code",
   "execution_count": 42,
   "id": "fb6a0d5d",
   "metadata": {},
   "outputs": [
    {
     "name": "stdout",
     "output_type": "stream",
     "text": [
      "Fitting 5 folds for each of 240 candidates, totalling 1200 fits\n"
     ]
    },
    {
     "data": {
      "text/html": [
       "<style>#sk-container-id-1 {color: black;background-color: white;}#sk-container-id-1 pre{padding: 0;}#sk-container-id-1 div.sk-toggleable {background-color: white;}#sk-container-id-1 label.sk-toggleable__label {cursor: pointer;display: block;width: 100%;margin-bottom: 0;padding: 0.3em;box-sizing: border-box;text-align: center;}#sk-container-id-1 label.sk-toggleable__label-arrow:before {content: \"▸\";float: left;margin-right: 0.25em;color: #696969;}#sk-container-id-1 label.sk-toggleable__label-arrow:hover:before {color: black;}#sk-container-id-1 div.sk-estimator:hover label.sk-toggleable__label-arrow:before {color: black;}#sk-container-id-1 div.sk-toggleable__content {max-height: 0;max-width: 0;overflow: hidden;text-align: left;background-color: #f0f8ff;}#sk-container-id-1 div.sk-toggleable__content pre {margin: 0.2em;color: black;border-radius: 0.25em;background-color: #f0f8ff;}#sk-container-id-1 input.sk-toggleable__control:checked~div.sk-toggleable__content {max-height: 200px;max-width: 100%;overflow: auto;}#sk-container-id-1 input.sk-toggleable__control:checked~label.sk-toggleable__label-arrow:before {content: \"▾\";}#sk-container-id-1 div.sk-estimator input.sk-toggleable__control:checked~label.sk-toggleable__label {background-color: #d4ebff;}#sk-container-id-1 div.sk-label input.sk-toggleable__control:checked~label.sk-toggleable__label {background-color: #d4ebff;}#sk-container-id-1 input.sk-hidden--visually {border: 0;clip: rect(1px 1px 1px 1px);clip: rect(1px, 1px, 1px, 1px);height: 1px;margin: -1px;overflow: hidden;padding: 0;position: absolute;width: 1px;}#sk-container-id-1 div.sk-estimator {font-family: monospace;background-color: #f0f8ff;border: 1px dotted black;border-radius: 0.25em;box-sizing: border-box;margin-bottom: 0.5em;}#sk-container-id-1 div.sk-estimator:hover {background-color: #d4ebff;}#sk-container-id-1 div.sk-parallel-item::after {content: \"\";width: 100%;border-bottom: 1px solid gray;flex-grow: 1;}#sk-container-id-1 div.sk-label:hover label.sk-toggleable__label {background-color: #d4ebff;}#sk-container-id-1 div.sk-serial::before {content: \"\";position: absolute;border-left: 1px solid gray;box-sizing: border-box;top: 0;bottom: 0;left: 50%;z-index: 0;}#sk-container-id-1 div.sk-serial {display: flex;flex-direction: column;align-items: center;background-color: white;padding-right: 0.2em;padding-left: 0.2em;position: relative;}#sk-container-id-1 div.sk-item {position: relative;z-index: 1;}#sk-container-id-1 div.sk-parallel {display: flex;align-items: stretch;justify-content: center;background-color: white;position: relative;}#sk-container-id-1 div.sk-item::before, #sk-container-id-1 div.sk-parallel-item::before {content: \"\";position: absolute;border-left: 1px solid gray;box-sizing: border-box;top: 0;bottom: 0;left: 50%;z-index: -1;}#sk-container-id-1 div.sk-parallel-item {display: flex;flex-direction: column;z-index: 1;position: relative;background-color: white;}#sk-container-id-1 div.sk-parallel-item:first-child::after {align-self: flex-end;width: 50%;}#sk-container-id-1 div.sk-parallel-item:last-child::after {align-self: flex-start;width: 50%;}#sk-container-id-1 div.sk-parallel-item:only-child::after {width: 0;}#sk-container-id-1 div.sk-dashed-wrapped {border: 1px dashed gray;margin: 0 0.4em 0.5em 0.4em;box-sizing: border-box;padding-bottom: 0.4em;background-color: white;}#sk-container-id-1 div.sk-label label {font-family: monospace;font-weight: bold;display: inline-block;line-height: 1.2em;}#sk-container-id-1 div.sk-label-container {text-align: center;}#sk-container-id-1 div.sk-container {/* jupyter's `normalize.less` sets `[hidden] { display: none; }` but bootstrap.min.css set `[hidden] { display: none !important; }` so we also need the `!important` here to be able to override the default hidden behavior on the sphinx rendered scikit-learn.org. See: https://github.com/scikit-learn/scikit-learn/issues/21755 */display: inline-block !important;position: relative;}#sk-container-id-1 div.sk-text-repr-fallback {display: none;}</style><div id=\"sk-container-id-1\" class=\"sk-top-container\"><div class=\"sk-text-repr-fallback\"><pre>GridSearchCV(estimator=RandomForestClassifier(random_state=42), n_jobs=-1,\n",
       "             param_grid={&#x27;max_depth&#x27;: [2, 3, 5, 10, 20],\n",
       "                         &#x27;min_samples_leaf&#x27;: [5, 10, 20, 50, 100, 200],\n",
       "                         &#x27;n_estimators&#x27;: [2, 5, 10, 20, 30, 50, 100, 200]},\n",
       "             scoring=make_scorer(f1_score, average=macro), verbose=1)</pre><b>In a Jupyter environment, please rerun this cell to show the HTML representation or trust the notebook. <br />On GitHub, the HTML representation is unable to render, please try loading this page with nbviewer.org.</b></div><div class=\"sk-container\" hidden><div class=\"sk-item sk-dashed-wrapped\"><div class=\"sk-label-container\"><div class=\"sk-label sk-toggleable\"><input class=\"sk-toggleable__control sk-hidden--visually\" id=\"sk-estimator-id-1\" type=\"checkbox\" ><label for=\"sk-estimator-id-1\" class=\"sk-toggleable__label sk-toggleable__label-arrow\">GridSearchCV</label><div class=\"sk-toggleable__content\"><pre>GridSearchCV(estimator=RandomForestClassifier(random_state=42), n_jobs=-1,\n",
       "             param_grid={&#x27;max_depth&#x27;: [2, 3, 5, 10, 20],\n",
       "                         &#x27;min_samples_leaf&#x27;: [5, 10, 20, 50, 100, 200],\n",
       "                         &#x27;n_estimators&#x27;: [2, 5, 10, 20, 30, 50, 100, 200]},\n",
       "             scoring=make_scorer(f1_score, average=macro), verbose=1)</pre></div></div></div><div class=\"sk-parallel\"><div class=\"sk-parallel-item\"><div class=\"sk-item\"><div class=\"sk-label-container\"><div class=\"sk-label sk-toggleable\"><input class=\"sk-toggleable__control sk-hidden--visually\" id=\"sk-estimator-id-2\" type=\"checkbox\" ><label for=\"sk-estimator-id-2\" class=\"sk-toggleable__label sk-toggleable__label-arrow\">estimator: RandomForestClassifier</label><div class=\"sk-toggleable__content\"><pre>RandomForestClassifier(random_state=42)</pre></div></div></div><div class=\"sk-serial\"><div class=\"sk-item\"><div class=\"sk-estimator sk-toggleable\"><input class=\"sk-toggleable__control sk-hidden--visually\" id=\"sk-estimator-id-3\" type=\"checkbox\" ><label for=\"sk-estimator-id-3\" class=\"sk-toggleable__label sk-toggleable__label-arrow\">RandomForestClassifier</label><div class=\"sk-toggleable__content\"><pre>RandomForestClassifier(random_state=42)</pre></div></div></div></div></div></div></div></div></div></div>"
      ],
      "text/plain": [
       "GridSearchCV(estimator=RandomForestClassifier(random_state=42), n_jobs=-1,\n",
       "             param_grid={'max_depth': [2, 3, 5, 10, 20],\n",
       "                         'min_samples_leaf': [5, 10, 20, 50, 100, 200],\n",
       "                         'n_estimators': [2, 5, 10, 20, 30, 50, 100, 200]},\n",
       "             scoring=make_scorer(f1_score, average=macro), verbose=1)"
      ]
     },
     "execution_count": 42,
     "metadata": {},
     "output_type": "execute_result"
    }
   ],
   "source": [
    "from sklearn.ensemble import RandomForestClassifier\n",
    "\n",
    "params = {\n",
    "    'max_depth': [2, 3, 5, 10, 20],\n",
    "    'min_samples_leaf': [5, 10, 20, 50, 100, 200],\n",
    "    'n_estimators': [2, 5, 10, 20, 30, 50, 100, 200]\n",
    "}\n",
    "\n",
    "grid_search_RF = GridSearchCV(RandomForestClassifier(random_state=42), param_grid=params, n_jobs=-1, verbose=1, scoring=f1)\n",
    "\n",
    "grid_search_RF.fit(X_train, y_train)"
   ]
  },
  {
   "cell_type": "code",
   "execution_count": 46,
   "id": "eb482340",
   "metadata": {},
   "outputs": [
    {
     "name": "stdout",
     "output_type": "stream",
     "text": [
      "The validation acccuracy is: 0.889\n",
      "The f1 score is: 0.837\n"
     ]
    }
   ],
   "source": [
    "y_pred_on_val = grid_search_RF.predict(X_val)\n",
    "print(\"The training acccuracy is: %.3f\" % grid_search_RF.best_score_)\n",
    "print(\"The validation acccuracy is: %.3f\" % sklearn.metrics.accuracy_score(y_val, y_pred_on_val))\n",
    "print(\"The f1 score is: %.3f\" % f1_score(y_val, y_pred_on_val, average='macro'))"
   ]
  },
  {
   "cell_type": "code",
   "execution_count": 126,
   "id": "544e6944",
   "metadata": {},
   "outputs": [
    {
     "data": {
      "text/html": [
       "<div>\n",
       "<style scoped>\n",
       "    .dataframe tbody tr th:only-of-type {\n",
       "        vertical-align: middle;\n",
       "    }\n",
       "\n",
       "    .dataframe tbody tr th {\n",
       "        vertical-align: top;\n",
       "    }\n",
       "\n",
       "    .dataframe thead th {\n",
       "        text-align: right;\n",
       "    }\n",
       "</style>\n",
       "<table border=\"1\" class=\"dataframe\">\n",
       "  <thead>\n",
       "    <tr style=\"text-align: right;\">\n",
       "      <th></th>\n",
       "      <th>0</th>\n",
       "      <th>1</th>\n",
       "      <th>44</th>\n",
       "      <th>7</th>\n",
       "      <th>45</th>\n",
       "      <th>4</th>\n",
       "      <th>42</th>\n",
       "      <th>46</th>\n",
       "      <th>43</th>\n",
       "      <th>6</th>\n",
       "      <th>...</th>\n",
       "      <th>32</th>\n",
       "      <th>19</th>\n",
       "      <th>35</th>\n",
       "      <th>5</th>\n",
       "      <th>18</th>\n",
       "      <th>28</th>\n",
       "      <th>22</th>\n",
       "      <th>24</th>\n",
       "      <th>36</th>\n",
       "      <th>29</th>\n",
       "    </tr>\n",
       "  </thead>\n",
       "  <tbody>\n",
       "    <tr>\n",
       "      <th>Varname</th>\n",
       "      <td>X1</td>\n",
       "      <td>X10</td>\n",
       "      <td>X6</td>\n",
       "      <td>X13_ FC14</td>\n",
       "      <td>X7</td>\n",
       "      <td>X13_ FC11</td>\n",
       "      <td>X4</td>\n",
       "      <td>X8</td>\n",
       "      <td>X5</td>\n",
       "      <td>X13_ FC13</td>\n",
       "      <td>...</td>\n",
       "      <td>X14_ CA51</td>\n",
       "      <td>X14_ CA36</td>\n",
       "      <td>X14_ CA54</td>\n",
       "      <td>X13_ FC12</td>\n",
       "      <td>X14_ CA34</td>\n",
       "      <td>X14_ CA46</td>\n",
       "      <td>X14_ CA39</td>\n",
       "      <td>X14_ CA41</td>\n",
       "      <td>X14_ CA55</td>\n",
       "      <td>X14_ CA48</td>\n",
       "    </tr>\n",
       "    <tr>\n",
       "      <th>Imp</th>\n",
       "      <td>0.201471</td>\n",
       "      <td>0.112119</td>\n",
       "      <td>0.091448</td>\n",
       "      <td>0.065627</td>\n",
       "      <td>0.052685</td>\n",
       "      <td>0.047814</td>\n",
       "      <td>0.039006</td>\n",
       "      <td>0.034969</td>\n",
       "      <td>0.031898</td>\n",
       "      <td>0.030582</td>\n",
       "      <td>...</td>\n",
       "      <td>0.000933</td>\n",
       "      <td>0.000919</td>\n",
       "      <td>0.000471</td>\n",
       "      <td>0.000416</td>\n",
       "      <td>0.000278</td>\n",
       "      <td>0.00009</td>\n",
       "      <td>0.000012</td>\n",
       "      <td>0.0</td>\n",
       "      <td>0.0</td>\n",
       "      <td>0.0</td>\n",
       "    </tr>\n",
       "  </tbody>\n",
       "</table>\n",
       "<p>2 rows × 48 columns</p>\n",
       "</div>"
      ],
      "text/plain": [
       "               0         1         44         7         45         4   \\\n",
       "Varname        X1       X10        X6  X13_ FC14        X7  X13_ FC11   \n",
       "Imp      0.201471  0.112119  0.091448   0.065627  0.052685   0.047814   \n",
       "\n",
       "               42        46        43         6   ...         32         19  \\\n",
       "Varname        X4        X8        X5  X13_ FC13  ...  X14_ CA51  X14_ CA36   \n",
       "Imp      0.039006  0.034969  0.031898   0.030582  ...   0.000933   0.000919   \n",
       "\n",
       "                35         5          18         28         22         24  \\\n",
       "Varname  X14_ CA54  X13_ FC12  X14_ CA34  X14_ CA46  X14_ CA39  X14_ CA41   \n",
       "Imp       0.000471   0.000416   0.000278    0.00009   0.000012        0.0   \n",
       "\n",
       "                36         29  \n",
       "Varname  X14_ CA55  X14_ CA48  \n",
       "Imp            0.0        0.0  \n",
       "\n",
       "[2 rows x 48 columns]"
      ]
     },
     "execution_count": 126,
     "metadata": {},
     "output_type": "execute_result"
    }
   ],
   "source": [
    "rf_best = grid_search_RF.best_estimator_\n",
    "imp_df = pd.DataFrame({\n",
    "    \"Varname\": df.columns.drop('Y'),\n",
    "    \"Imp\": rf_best.feature_importances_\n",
    "})\n",
    "imp_df.sort_values(by=\"Imp\", ascending=False).T"
   ]
  },
  {
   "cell_type": "markdown",
   "id": "6a6acf1d",
   "metadata": {},
   "source": [
    "### Bagging"
   ]
  },
  {
   "cell_type": "code",
   "execution_count": 61,
   "id": "667ee675",
   "metadata": {},
   "outputs": [
    {
     "name": "stdout",
     "output_type": "stream",
     "text": [
      "Fitting 5 folds for each of 63 candidates, totalling 315 fits\n"
     ]
    },
    {
     "data": {
      "text/html": [
       "<style>#sk-container-id-5 {color: black;background-color: white;}#sk-container-id-5 pre{padding: 0;}#sk-container-id-5 div.sk-toggleable {background-color: white;}#sk-container-id-5 label.sk-toggleable__label {cursor: pointer;display: block;width: 100%;margin-bottom: 0;padding: 0.3em;box-sizing: border-box;text-align: center;}#sk-container-id-5 label.sk-toggleable__label-arrow:before {content: \"▸\";float: left;margin-right: 0.25em;color: #696969;}#sk-container-id-5 label.sk-toggleable__label-arrow:hover:before {color: black;}#sk-container-id-5 div.sk-estimator:hover label.sk-toggleable__label-arrow:before {color: black;}#sk-container-id-5 div.sk-toggleable__content {max-height: 0;max-width: 0;overflow: hidden;text-align: left;background-color: #f0f8ff;}#sk-container-id-5 div.sk-toggleable__content pre {margin: 0.2em;color: black;border-radius: 0.25em;background-color: #f0f8ff;}#sk-container-id-5 input.sk-toggleable__control:checked~div.sk-toggleable__content {max-height: 200px;max-width: 100%;overflow: auto;}#sk-container-id-5 input.sk-toggleable__control:checked~label.sk-toggleable__label-arrow:before {content: \"▾\";}#sk-container-id-5 div.sk-estimator input.sk-toggleable__control:checked~label.sk-toggleable__label {background-color: #d4ebff;}#sk-container-id-5 div.sk-label input.sk-toggleable__control:checked~label.sk-toggleable__label {background-color: #d4ebff;}#sk-container-id-5 input.sk-hidden--visually {border: 0;clip: rect(1px 1px 1px 1px);clip: rect(1px, 1px, 1px, 1px);height: 1px;margin: -1px;overflow: hidden;padding: 0;position: absolute;width: 1px;}#sk-container-id-5 div.sk-estimator {font-family: monospace;background-color: #f0f8ff;border: 1px dotted black;border-radius: 0.25em;box-sizing: border-box;margin-bottom: 0.5em;}#sk-container-id-5 div.sk-estimator:hover {background-color: #d4ebff;}#sk-container-id-5 div.sk-parallel-item::after {content: \"\";width: 100%;border-bottom: 1px solid gray;flex-grow: 1;}#sk-container-id-5 div.sk-label:hover label.sk-toggleable__label {background-color: #d4ebff;}#sk-container-id-5 div.sk-serial::before {content: \"\";position: absolute;border-left: 1px solid gray;box-sizing: border-box;top: 0;bottom: 0;left: 50%;z-index: 0;}#sk-container-id-5 div.sk-serial {display: flex;flex-direction: column;align-items: center;background-color: white;padding-right: 0.2em;padding-left: 0.2em;position: relative;}#sk-container-id-5 div.sk-item {position: relative;z-index: 1;}#sk-container-id-5 div.sk-parallel {display: flex;align-items: stretch;justify-content: center;background-color: white;position: relative;}#sk-container-id-5 div.sk-item::before, #sk-container-id-5 div.sk-parallel-item::before {content: \"\";position: absolute;border-left: 1px solid gray;box-sizing: border-box;top: 0;bottom: 0;left: 50%;z-index: -1;}#sk-container-id-5 div.sk-parallel-item {display: flex;flex-direction: column;z-index: 1;position: relative;background-color: white;}#sk-container-id-5 div.sk-parallel-item:first-child::after {align-self: flex-end;width: 50%;}#sk-container-id-5 div.sk-parallel-item:last-child::after {align-self: flex-start;width: 50%;}#sk-container-id-5 div.sk-parallel-item:only-child::after {width: 0;}#sk-container-id-5 div.sk-dashed-wrapped {border: 1px dashed gray;margin: 0 0.4em 0.5em 0.4em;box-sizing: border-box;padding-bottom: 0.4em;background-color: white;}#sk-container-id-5 div.sk-label label {font-family: monospace;font-weight: bold;display: inline-block;line-height: 1.2em;}#sk-container-id-5 div.sk-label-container {text-align: center;}#sk-container-id-5 div.sk-container {/* jupyter's `normalize.less` sets `[hidden] { display: none; }` but bootstrap.min.css set `[hidden] { display: none !important; }` so we also need the `!important` here to be able to override the default hidden behavior on the sphinx rendered scikit-learn.org. See: https://github.com/scikit-learn/scikit-learn/issues/21755 */display: inline-block !important;position: relative;}#sk-container-id-5 div.sk-text-repr-fallback {display: none;}</style><div id=\"sk-container-id-5\" class=\"sk-top-container\"><div class=\"sk-text-repr-fallback\"><pre>GridSearchCV(estimator=BaggingClassifier(estimator=DecisionTreeClassifier()),\n",
       "             n_jobs=-1,\n",
       "             param_grid={&#x27;max_features&#x27;: [0.5, 0.7, 1.0],\n",
       "                         &#x27;max_samples&#x27;: [0.5, 0.7, 1.0],\n",
       "                         &#x27;n_estimators&#x27;: [2, 5, 10, 20, 30, 50, 100]},\n",
       "             scoring=make_scorer(f1_score, average=macro), verbose=1)</pre><b>In a Jupyter environment, please rerun this cell to show the HTML representation or trust the notebook. <br />On GitHub, the HTML representation is unable to render, please try loading this page with nbviewer.org.</b></div><div class=\"sk-container\" hidden><div class=\"sk-item sk-dashed-wrapped\"><div class=\"sk-label-container\"><div class=\"sk-label sk-toggleable\"><input class=\"sk-toggleable__control sk-hidden--visually\" id=\"sk-estimator-id-7\" type=\"checkbox\" ><label for=\"sk-estimator-id-7\" class=\"sk-toggleable__label sk-toggleable__label-arrow\">GridSearchCV</label><div class=\"sk-toggleable__content\"><pre>GridSearchCV(estimator=BaggingClassifier(estimator=DecisionTreeClassifier()),\n",
       "             n_jobs=-1,\n",
       "             param_grid={&#x27;max_features&#x27;: [0.5, 0.7, 1.0],\n",
       "                         &#x27;max_samples&#x27;: [0.5, 0.7, 1.0],\n",
       "                         &#x27;n_estimators&#x27;: [2, 5, 10, 20, 30, 50, 100]},\n",
       "             scoring=make_scorer(f1_score, average=macro), verbose=1)</pre></div></div></div><div class=\"sk-parallel\"><div class=\"sk-parallel-item\"><div class=\"sk-item\"><div class=\"sk-label-container\"><div class=\"sk-label sk-toggleable\"><input class=\"sk-toggleable__control sk-hidden--visually\" id=\"sk-estimator-id-8\" type=\"checkbox\" ><label for=\"sk-estimator-id-8\" class=\"sk-toggleable__label sk-toggleable__label-arrow\">estimator: BaggingClassifier</label><div class=\"sk-toggleable__content\"><pre>BaggingClassifier(estimator=DecisionTreeClassifier())</pre></div></div></div><div class=\"sk-serial\"><div class=\"sk-item sk-dashed-wrapped\"><div class=\"sk-parallel\"><div class=\"sk-parallel-item\"><div class=\"sk-item\"><div class=\"sk-label-container\"><div class=\"sk-label sk-toggleable\"><input class=\"sk-toggleable__control sk-hidden--visually\" id=\"sk-estimator-id-9\" type=\"checkbox\" ><label for=\"sk-estimator-id-9\" class=\"sk-toggleable__label sk-toggleable__label-arrow\">estimator: DecisionTreeClassifier</label><div class=\"sk-toggleable__content\"><pre>DecisionTreeClassifier()</pre></div></div></div><div class=\"sk-serial\"><div class=\"sk-item\"><div class=\"sk-estimator sk-toggleable\"><input class=\"sk-toggleable__control sk-hidden--visually\" id=\"sk-estimator-id-10\" type=\"checkbox\" ><label for=\"sk-estimator-id-10\" class=\"sk-toggleable__label sk-toggleable__label-arrow\">DecisionTreeClassifier</label><div class=\"sk-toggleable__content\"><pre>DecisionTreeClassifier()</pre></div></div></div></div></div></div></div></div></div></div></div></div></div></div></div>"
      ],
      "text/plain": [
       "GridSearchCV(estimator=BaggingClassifier(estimator=DecisionTreeClassifier()),\n",
       "             n_jobs=-1,\n",
       "             param_grid={'max_features': [0.5, 0.7, 1.0],\n",
       "                         'max_samples': [0.5, 0.7, 1.0],\n",
       "                         'n_estimators': [2, 5, 10, 20, 30, 50, 100]},\n",
       "             scoring=make_scorer(f1_score, average=macro), verbose=1)"
      ]
     },
     "execution_count": 61,
     "metadata": {},
     "output_type": "execute_result"
    }
   ],
   "source": [
    "from sklearn.ensemble import BaggingClassifier\n",
    "\n",
    "params = {'max_features': [0.5, 0.7, 1.0],\n",
    "          'max_samples': [0.5, 0.7, 1.0],\n",
    "          'n_estimators': [2, 5, 10, 20, 30, 50, 100]\n",
    "         }\n",
    "\n",
    "grid_search_bagging = GridSearchCV(BaggingClassifier(DecisionTreeClassifier()), param_grid=params, n_jobs=-1, verbose=1, scoring=f1)\n",
    "\n",
    "grid_search_bagging.fit(X_train, y_train)"
   ]
  },
  {
   "cell_type": "code",
   "execution_count": 105,
   "id": "28281f7e",
   "metadata": {},
   "outputs": [
    {
     "name": "stdout",
     "output_type": "stream",
     "text": [
      "The training acccuracy is: 0.961\n",
      "The validation acccuracy is: 0.917\n",
      "The f1 score is: 0.877\n"
     ]
    }
   ],
   "source": [
    "y_pred_on_val = grid_search_bagging.predict(X_val)\n",
    "print(\"The training acccuracy is: %.3f\" % grid_search_bagging.best_score_)\n",
    "print(\"The validation acccuracy is: %.3f\" % sklearn.metrics.accuracy_score(y_val, y_pred_on_val))\n",
    "print(\"The f1 score is: %.3f\" % f1_score(y_val, y_pred_on_val, average='macro'))"
   ]
  },
  {
   "cell_type": "markdown",
   "id": "2371fc12",
   "metadata": {},
   "source": [
    "### AdaBoost"
   ]
  },
  {
   "cell_type": "code",
   "execution_count": 69,
   "id": "ad7c159d",
   "metadata": {},
   "outputs": [
    {
     "name": "stdout",
     "output_type": "stream",
     "text": [
      "Fitting 5 folds for each of 40 candidates, totalling 200 fits\n"
     ]
    },
    {
     "data": {
      "text/html": [
       "<style>#sk-container-id-8 {color: black;background-color: white;}#sk-container-id-8 pre{padding: 0;}#sk-container-id-8 div.sk-toggleable {background-color: white;}#sk-container-id-8 label.sk-toggleable__label {cursor: pointer;display: block;width: 100%;margin-bottom: 0;padding: 0.3em;box-sizing: border-box;text-align: center;}#sk-container-id-8 label.sk-toggleable__label-arrow:before {content: \"▸\";float: left;margin-right: 0.25em;color: #696969;}#sk-container-id-8 label.sk-toggleable__label-arrow:hover:before {color: black;}#sk-container-id-8 div.sk-estimator:hover label.sk-toggleable__label-arrow:before {color: black;}#sk-container-id-8 div.sk-toggleable__content {max-height: 0;max-width: 0;overflow: hidden;text-align: left;background-color: #f0f8ff;}#sk-container-id-8 div.sk-toggleable__content pre {margin: 0.2em;color: black;border-radius: 0.25em;background-color: #f0f8ff;}#sk-container-id-8 input.sk-toggleable__control:checked~div.sk-toggleable__content {max-height: 200px;max-width: 100%;overflow: auto;}#sk-container-id-8 input.sk-toggleable__control:checked~label.sk-toggleable__label-arrow:before {content: \"▾\";}#sk-container-id-8 div.sk-estimator input.sk-toggleable__control:checked~label.sk-toggleable__label {background-color: #d4ebff;}#sk-container-id-8 div.sk-label input.sk-toggleable__control:checked~label.sk-toggleable__label {background-color: #d4ebff;}#sk-container-id-8 input.sk-hidden--visually {border: 0;clip: rect(1px 1px 1px 1px);clip: rect(1px, 1px, 1px, 1px);height: 1px;margin: -1px;overflow: hidden;padding: 0;position: absolute;width: 1px;}#sk-container-id-8 div.sk-estimator {font-family: monospace;background-color: #f0f8ff;border: 1px dotted black;border-radius: 0.25em;box-sizing: border-box;margin-bottom: 0.5em;}#sk-container-id-8 div.sk-estimator:hover {background-color: #d4ebff;}#sk-container-id-8 div.sk-parallel-item::after {content: \"\";width: 100%;border-bottom: 1px solid gray;flex-grow: 1;}#sk-container-id-8 div.sk-label:hover label.sk-toggleable__label {background-color: #d4ebff;}#sk-container-id-8 div.sk-serial::before {content: \"\";position: absolute;border-left: 1px solid gray;box-sizing: border-box;top: 0;bottom: 0;left: 50%;z-index: 0;}#sk-container-id-8 div.sk-serial {display: flex;flex-direction: column;align-items: center;background-color: white;padding-right: 0.2em;padding-left: 0.2em;position: relative;}#sk-container-id-8 div.sk-item {position: relative;z-index: 1;}#sk-container-id-8 div.sk-parallel {display: flex;align-items: stretch;justify-content: center;background-color: white;position: relative;}#sk-container-id-8 div.sk-item::before, #sk-container-id-8 div.sk-parallel-item::before {content: \"\";position: absolute;border-left: 1px solid gray;box-sizing: border-box;top: 0;bottom: 0;left: 50%;z-index: -1;}#sk-container-id-8 div.sk-parallel-item {display: flex;flex-direction: column;z-index: 1;position: relative;background-color: white;}#sk-container-id-8 div.sk-parallel-item:first-child::after {align-self: flex-end;width: 50%;}#sk-container-id-8 div.sk-parallel-item:last-child::after {align-self: flex-start;width: 50%;}#sk-container-id-8 div.sk-parallel-item:only-child::after {width: 0;}#sk-container-id-8 div.sk-dashed-wrapped {border: 1px dashed gray;margin: 0 0.4em 0.5em 0.4em;box-sizing: border-box;padding-bottom: 0.4em;background-color: white;}#sk-container-id-8 div.sk-label label {font-family: monospace;font-weight: bold;display: inline-block;line-height: 1.2em;}#sk-container-id-8 div.sk-label-container {text-align: center;}#sk-container-id-8 div.sk-container {/* jupyter's `normalize.less` sets `[hidden] { display: none; }` but bootstrap.min.css set `[hidden] { display: none !important; }` so we also need the `!important` here to be able to override the default hidden behavior on the sphinx rendered scikit-learn.org. See: https://github.com/scikit-learn/scikit-learn/issues/21755 */display: inline-block !important;position: relative;}#sk-container-id-8 div.sk-text-repr-fallback {display: none;}</style><div id=\"sk-container-id-8\" class=\"sk-top-container\"><div class=\"sk-text-repr-fallback\"><pre>GridSearchCV(estimator=AdaBoostClassifier(estimator=DecisionTreeClassifier()),\n",
       "             n_jobs=-1,\n",
       "             param_grid={&#x27;learning_rate&#x27;: [0.0001, 0.001, 0.01, 0.1, 1],\n",
       "                         &#x27;n_estimators&#x27;: [2, 5, 10, 20, 30, 50, 100, 200]},\n",
       "             scoring=make_scorer(f1_score, average=macro), verbose=1)</pre><b>In a Jupyter environment, please rerun this cell to show the HTML representation or trust the notebook. <br />On GitHub, the HTML representation is unable to render, please try loading this page with nbviewer.org.</b></div><div class=\"sk-container\" hidden><div class=\"sk-item sk-dashed-wrapped\"><div class=\"sk-label-container\"><div class=\"sk-label sk-toggleable\"><input class=\"sk-toggleable__control sk-hidden--visually\" id=\"sk-estimator-id-17\" type=\"checkbox\" ><label for=\"sk-estimator-id-17\" class=\"sk-toggleable__label sk-toggleable__label-arrow\">GridSearchCV</label><div class=\"sk-toggleable__content\"><pre>GridSearchCV(estimator=AdaBoostClassifier(estimator=DecisionTreeClassifier()),\n",
       "             n_jobs=-1,\n",
       "             param_grid={&#x27;learning_rate&#x27;: [0.0001, 0.001, 0.01, 0.1, 1],\n",
       "                         &#x27;n_estimators&#x27;: [2, 5, 10, 20, 30, 50, 100, 200]},\n",
       "             scoring=make_scorer(f1_score, average=macro), verbose=1)</pre></div></div></div><div class=\"sk-parallel\"><div class=\"sk-parallel-item\"><div class=\"sk-item\"><div class=\"sk-label-container\"><div class=\"sk-label sk-toggleable\"><input class=\"sk-toggleable__control sk-hidden--visually\" id=\"sk-estimator-id-18\" type=\"checkbox\" ><label for=\"sk-estimator-id-18\" class=\"sk-toggleable__label sk-toggleable__label-arrow\">estimator: AdaBoostClassifier</label><div class=\"sk-toggleable__content\"><pre>AdaBoostClassifier(estimator=DecisionTreeClassifier())</pre></div></div></div><div class=\"sk-serial\"><div class=\"sk-item sk-dashed-wrapped\"><div class=\"sk-parallel\"><div class=\"sk-parallel-item\"><div class=\"sk-item\"><div class=\"sk-label-container\"><div class=\"sk-label sk-toggleable\"><input class=\"sk-toggleable__control sk-hidden--visually\" id=\"sk-estimator-id-19\" type=\"checkbox\" ><label for=\"sk-estimator-id-19\" class=\"sk-toggleable__label sk-toggleable__label-arrow\">estimator: DecisionTreeClassifier</label><div class=\"sk-toggleable__content\"><pre>DecisionTreeClassifier()</pre></div></div></div><div class=\"sk-serial\"><div class=\"sk-item\"><div class=\"sk-estimator sk-toggleable\"><input class=\"sk-toggleable__control sk-hidden--visually\" id=\"sk-estimator-id-20\" type=\"checkbox\" ><label for=\"sk-estimator-id-20\" class=\"sk-toggleable__label sk-toggleable__label-arrow\">DecisionTreeClassifier</label><div class=\"sk-toggleable__content\"><pre>DecisionTreeClassifier()</pre></div></div></div></div></div></div></div></div></div></div></div></div></div></div></div>"
      ],
      "text/plain": [
       "GridSearchCV(estimator=AdaBoostClassifier(estimator=DecisionTreeClassifier()),\n",
       "             n_jobs=-1,\n",
       "             param_grid={'learning_rate': [0.0001, 0.001, 0.01, 0.1, 1],\n",
       "                         'n_estimators': [2, 5, 10, 20, 30, 50, 100, 200]},\n",
       "             scoring=make_scorer(f1_score, average=macro), verbose=1)"
      ]
     },
     "execution_count": 69,
     "metadata": {},
     "output_type": "execute_result"
    }
   ],
   "source": [
    "from sklearn.ensemble import AdaBoostClassifier\n",
    "parameters = {'n_estimators':[2, 5, 10, 20, 30, 50, 100, 200],\n",
    "              'learning_rate':[0.0001, .001, 0.01, .1, 1]}\n",
    "\n",
    "grid_search_ADA = GridSearchCV(AdaBoostClassifier(DecisionTreeClassifier()), parameters, verbose=1, n_jobs=-1, scoring=f1)\n",
    "grid_search_ADA.fit(X_train, y_train)"
   ]
  },
  {
   "cell_type": "code",
   "execution_count": 77,
   "id": "300b12df",
   "metadata": {},
   "outputs": [
    {
     "name": "stdout",
     "output_type": "stream",
     "text": [
      "The training acccuracy is: 0.924\n",
      "The validation acccuracy is: 0.893\n",
      "The f1 score is: 0.847\n"
     ]
    }
   ],
   "source": [
    "y_pred_on_val = grid_search_ADA.predict(X_val)\n",
    "print(\"The training acccuracy is: %.3f\" % grid_search_ADA.best_score_)\n",
    "print(\"The validation acccuracy is: %.3f\" % sklearn.metrics.accuracy_score(y_val, y_pred_on_val))\n",
    "print(\"The f1 score is: %.3f\" % f1_score(y_val, y_pred_on_val, average='macro'))"
   ]
  },
  {
   "cell_type": "code",
   "execution_count": 127,
   "id": "f3f9f5c7",
   "metadata": {},
   "outputs": [
    {
     "data": {
      "text/html": [
       "<div>\n",
       "<style scoped>\n",
       "    .dataframe tbody tr th:only-of-type {\n",
       "        vertical-align: middle;\n",
       "    }\n",
       "\n",
       "    .dataframe tbody tr th {\n",
       "        vertical-align: top;\n",
       "    }\n",
       "\n",
       "    .dataframe thead th {\n",
       "        text-align: right;\n",
       "    }\n",
       "</style>\n",
       "<table border=\"1\" class=\"dataframe\">\n",
       "  <thead>\n",
       "    <tr style=\"text-align: right;\">\n",
       "      <th></th>\n",
       "      <th>0</th>\n",
       "      <th>1</th>\n",
       "      <th>44</th>\n",
       "      <th>42</th>\n",
       "      <th>45</th>\n",
       "      <th>10</th>\n",
       "      <th>34</th>\n",
       "      <th>43</th>\n",
       "      <th>46</th>\n",
       "      <th>40</th>\n",
       "      <th>...</th>\n",
       "      <th>19</th>\n",
       "      <th>29</th>\n",
       "      <th>35</th>\n",
       "      <th>28</th>\n",
       "      <th>36</th>\n",
       "      <th>21</th>\n",
       "      <th>18</th>\n",
       "      <th>5</th>\n",
       "      <th>12</th>\n",
       "      <th>24</th>\n",
       "    </tr>\n",
       "  </thead>\n",
       "  <tbody>\n",
       "    <tr>\n",
       "      <th>Varname</th>\n",
       "      <td>X1</td>\n",
       "      <td>X10</td>\n",
       "      <td>X6</td>\n",
       "      <td>X4</td>\n",
       "      <td>X7</td>\n",
       "      <td>X14_ CA23</td>\n",
       "      <td>X14_ CA53</td>\n",
       "      <td>X5</td>\n",
       "      <td>X8</td>\n",
       "      <td>X2</td>\n",
       "      <td>...</td>\n",
       "      <td>X14_ CA36</td>\n",
       "      <td>X14_ CA48</td>\n",
       "      <td>X14_ CA54</td>\n",
       "      <td>X14_ CA46</td>\n",
       "      <td>X14_ CA55</td>\n",
       "      <td>X14_ CA38</td>\n",
       "      <td>X14_ CA34</td>\n",
       "      <td>X13_ FC12</td>\n",
       "      <td>X14_ CA25</td>\n",
       "      <td>X14_ CA41</td>\n",
       "    </tr>\n",
       "    <tr>\n",
       "      <th>Imp</th>\n",
       "      <td>0.35922</td>\n",
       "      <td>0.193784</td>\n",
       "      <td>0.075579</td>\n",
       "      <td>0.054503</td>\n",
       "      <td>0.043363</td>\n",
       "      <td>0.043287</td>\n",
       "      <td>0.032643</td>\n",
       "      <td>0.028488</td>\n",
       "      <td>0.027445</td>\n",
       "      <td>0.016356</td>\n",
       "      <td>...</td>\n",
       "      <td>0.00047</td>\n",
       "      <td>0.000282</td>\n",
       "      <td>0.000273</td>\n",
       "      <td>0.0</td>\n",
       "      <td>0.0</td>\n",
       "      <td>0.0</td>\n",
       "      <td>0.0</td>\n",
       "      <td>0.0</td>\n",
       "      <td>0.0</td>\n",
       "      <td>0.0</td>\n",
       "    </tr>\n",
       "  </tbody>\n",
       "</table>\n",
       "<p>2 rows × 48 columns</p>\n",
       "</div>"
      ],
      "text/plain": [
       "              0         1         44        42        45         10  \\\n",
       "Varname       X1       X10        X6        X4        X7  X14_ CA23   \n",
       "Imp      0.35922  0.193784  0.075579  0.054503  0.043363   0.043287   \n",
       "\n",
       "                34        43        46        40  ...         19         29  \\\n",
       "Varname  X14_ CA53        X5        X8        X2  ...  X14_ CA36  X14_ CA48   \n",
       "Imp       0.032643  0.028488  0.027445  0.016356  ...    0.00047   0.000282   \n",
       "\n",
       "                35         28         36         21         18         5   \\\n",
       "Varname  X14_ CA54  X14_ CA46  X14_ CA55  X14_ CA38  X14_ CA34  X13_ FC12   \n",
       "Imp       0.000273        0.0        0.0        0.0        0.0        0.0   \n",
       "\n",
       "                12         24  \n",
       "Varname  X14_ CA25  X14_ CA41  \n",
       "Imp            0.0        0.0  \n",
       "\n",
       "[2 rows x 48 columns]"
      ]
     },
     "execution_count": 127,
     "metadata": {},
     "output_type": "execute_result"
    }
   ],
   "source": [
    "ADA_best = grid_search_ADA.best_estimator_\n",
    "imp_df = pd.DataFrame({\n",
    "    \"Varname\": df.columns.drop('Y'),\n",
    "    \"Imp\": ADA_best.feature_importances_\n",
    "})\n",
    "imp_df.sort_values(by=\"Imp\", ascending=False).T"
   ]
  },
  {
   "cell_type": "markdown",
   "id": "1d3b8d86",
   "metadata": {},
   "source": [
    "### SVC"
   ]
  },
  {
   "cell_type": "markdown",
   "id": "59ee2cab",
   "metadata": {},
   "source": [
    "**rbf kernel is not included because of the slower performance when tuned with grid search**"
   ]
  },
  {
   "cell_type": "code",
   "execution_count": 98,
   "id": "9aad2852",
   "metadata": {},
   "outputs": [
    {
     "name": "stdout",
     "output_type": "stream",
     "text": [
      "Fitting 3 folds for each of 36 candidates, totalling 108 fits\n"
     ]
    },
    {
     "data": {
      "text/html": [
       "<style>#sk-container-id-9 {color: black;background-color: white;}#sk-container-id-9 pre{padding: 0;}#sk-container-id-9 div.sk-toggleable {background-color: white;}#sk-container-id-9 label.sk-toggleable__label {cursor: pointer;display: block;width: 100%;margin-bottom: 0;padding: 0.3em;box-sizing: border-box;text-align: center;}#sk-container-id-9 label.sk-toggleable__label-arrow:before {content: \"▸\";float: left;margin-right: 0.25em;color: #696969;}#sk-container-id-9 label.sk-toggleable__label-arrow:hover:before {color: black;}#sk-container-id-9 div.sk-estimator:hover label.sk-toggleable__label-arrow:before {color: black;}#sk-container-id-9 div.sk-toggleable__content {max-height: 0;max-width: 0;overflow: hidden;text-align: left;background-color: #f0f8ff;}#sk-container-id-9 div.sk-toggleable__content pre {margin: 0.2em;color: black;border-radius: 0.25em;background-color: #f0f8ff;}#sk-container-id-9 input.sk-toggleable__control:checked~div.sk-toggleable__content {max-height: 200px;max-width: 100%;overflow: auto;}#sk-container-id-9 input.sk-toggleable__control:checked~label.sk-toggleable__label-arrow:before {content: \"▾\";}#sk-container-id-9 div.sk-estimator input.sk-toggleable__control:checked~label.sk-toggleable__label {background-color: #d4ebff;}#sk-container-id-9 div.sk-label input.sk-toggleable__control:checked~label.sk-toggleable__label {background-color: #d4ebff;}#sk-container-id-9 input.sk-hidden--visually {border: 0;clip: rect(1px 1px 1px 1px);clip: rect(1px, 1px, 1px, 1px);height: 1px;margin: -1px;overflow: hidden;padding: 0;position: absolute;width: 1px;}#sk-container-id-9 div.sk-estimator {font-family: monospace;background-color: #f0f8ff;border: 1px dotted black;border-radius: 0.25em;box-sizing: border-box;margin-bottom: 0.5em;}#sk-container-id-9 div.sk-estimator:hover {background-color: #d4ebff;}#sk-container-id-9 div.sk-parallel-item::after {content: \"\";width: 100%;border-bottom: 1px solid gray;flex-grow: 1;}#sk-container-id-9 div.sk-label:hover label.sk-toggleable__label {background-color: #d4ebff;}#sk-container-id-9 div.sk-serial::before {content: \"\";position: absolute;border-left: 1px solid gray;box-sizing: border-box;top: 0;bottom: 0;left: 50%;z-index: 0;}#sk-container-id-9 div.sk-serial {display: flex;flex-direction: column;align-items: center;background-color: white;padding-right: 0.2em;padding-left: 0.2em;position: relative;}#sk-container-id-9 div.sk-item {position: relative;z-index: 1;}#sk-container-id-9 div.sk-parallel {display: flex;align-items: stretch;justify-content: center;background-color: white;position: relative;}#sk-container-id-9 div.sk-item::before, #sk-container-id-9 div.sk-parallel-item::before {content: \"\";position: absolute;border-left: 1px solid gray;box-sizing: border-box;top: 0;bottom: 0;left: 50%;z-index: -1;}#sk-container-id-9 div.sk-parallel-item {display: flex;flex-direction: column;z-index: 1;position: relative;background-color: white;}#sk-container-id-9 div.sk-parallel-item:first-child::after {align-self: flex-end;width: 50%;}#sk-container-id-9 div.sk-parallel-item:last-child::after {align-self: flex-start;width: 50%;}#sk-container-id-9 div.sk-parallel-item:only-child::after {width: 0;}#sk-container-id-9 div.sk-dashed-wrapped {border: 1px dashed gray;margin: 0 0.4em 0.5em 0.4em;box-sizing: border-box;padding-bottom: 0.4em;background-color: white;}#sk-container-id-9 div.sk-label label {font-family: monospace;font-weight: bold;display: inline-block;line-height: 1.2em;}#sk-container-id-9 div.sk-label-container {text-align: center;}#sk-container-id-9 div.sk-container {/* jupyter's `normalize.less` sets `[hidden] { display: none; }` but bootstrap.min.css set `[hidden] { display: none !important; }` so we also need the `!important` here to be able to override the default hidden behavior on the sphinx rendered scikit-learn.org. See: https://github.com/scikit-learn/scikit-learn/issues/21755 */display: inline-block !important;position: relative;}#sk-container-id-9 div.sk-text-repr-fallback {display: none;}</style><div id=\"sk-container-id-9\" class=\"sk-top-container\"><div class=\"sk-text-repr-fallback\"><pre>GridSearchCV(cv=3, estimator=SVC(),\n",
       "             param_grid={&#x27;C&#x27;: [0.1, 1, 10], &#x27;degree&#x27;: range(1, 3),\n",
       "                         &#x27;gamma&#x27;: [1, 0.1, 0.01],\n",
       "                         &#x27;kernel&#x27;: [&#x27;linear&#x27;, &#x27;poly&#x27;]},\n",
       "             verbose=1)</pre><b>In a Jupyter environment, please rerun this cell to show the HTML representation or trust the notebook. <br />On GitHub, the HTML representation is unable to render, please try loading this page with nbviewer.org.</b></div><div class=\"sk-container\" hidden><div class=\"sk-item sk-dashed-wrapped\"><div class=\"sk-label-container\"><div class=\"sk-label sk-toggleable\"><input class=\"sk-toggleable__control sk-hidden--visually\" id=\"sk-estimator-id-21\" type=\"checkbox\" ><label for=\"sk-estimator-id-21\" class=\"sk-toggleable__label sk-toggleable__label-arrow\">GridSearchCV</label><div class=\"sk-toggleable__content\"><pre>GridSearchCV(cv=3, estimator=SVC(),\n",
       "             param_grid={&#x27;C&#x27;: [0.1, 1, 10], &#x27;degree&#x27;: range(1, 3),\n",
       "                         &#x27;gamma&#x27;: [1, 0.1, 0.01],\n",
       "                         &#x27;kernel&#x27;: [&#x27;linear&#x27;, &#x27;poly&#x27;]},\n",
       "             verbose=1)</pre></div></div></div><div class=\"sk-parallel\"><div class=\"sk-parallel-item\"><div class=\"sk-item\"><div class=\"sk-label-container\"><div class=\"sk-label sk-toggleable\"><input class=\"sk-toggleable__control sk-hidden--visually\" id=\"sk-estimator-id-22\" type=\"checkbox\" ><label for=\"sk-estimator-id-22\" class=\"sk-toggleable__label sk-toggleable__label-arrow\">estimator: SVC</label><div class=\"sk-toggleable__content\"><pre>SVC()</pre></div></div></div><div class=\"sk-serial\"><div class=\"sk-item\"><div class=\"sk-estimator sk-toggleable\"><input class=\"sk-toggleable__control sk-hidden--visually\" id=\"sk-estimator-id-23\" type=\"checkbox\" ><label for=\"sk-estimator-id-23\" class=\"sk-toggleable__label sk-toggleable__label-arrow\">SVC</label><div class=\"sk-toggleable__content\"><pre>SVC()</pre></div></div></div></div></div></div></div></div></div></div>"
      ],
      "text/plain": [
       "GridSearchCV(cv=3, estimator=SVC(),\n",
       "             param_grid={'C': [0.1, 1, 10], 'degree': range(1, 3),\n",
       "                         'gamma': [1, 0.1, 0.01],\n",
       "                         'kernel': ['linear', 'poly']},\n",
       "             verbose=1)"
      ]
     },
     "execution_count": 98,
     "metadata": {},
     "output_type": "execute_result"
    }
   ],
   "source": [
    "from sklearn.svm import SVC\n",
    "param_grid = {'C': [0.1, 1, 10], \n",
    "              'gamma': [1, 0.1, 0.01],\n",
    "              'kernel': ['linear', 'poly'],\n",
    "              'degree': range(1,3)\n",
    "             } \n",
    "  \n",
    "grid_search_SVC = GridSearchCV(SVC(), param_grid, verbose = 1, cv = 3)\n",
    "  \n",
    "grid_search_SVC.fit(X_train, y_train)"
   ]
  },
  {
   "cell_type": "code",
   "execution_count": 103,
   "id": "53e82deb",
   "metadata": {},
   "outputs": [
    {
     "name": "stdout",
     "output_type": "stream",
     "text": [
      "{'C': 0.1, 'degree': 2, 'gamma': 1, 'kernel': 'poly'}\n"
     ]
    }
   ],
   "source": [
    "print(grid_search_SVC.best_params_)"
   ]
  },
  {
   "cell_type": "code",
   "execution_count": 104,
   "id": "a07b4da9",
   "metadata": {},
   "outputs": [
    {
     "name": "stdout",
     "output_type": "stream",
     "text": [
      "The training acccuracy is: 0.934\n",
      "The validation acccuracy is: 0.884\n",
      "The f1 score is: 0.824\n"
     ]
    }
   ],
   "source": [
    "y_pred_on_val = grid_search_SVC.predict(X_val)\n",
    "print(\"The training acccuracy is: %.3f\" % grid_search_SVC.best_score_)\n",
    "print(\"The validation acccuracy is: %.3f\" % sklearn.metrics.accuracy_score(y_val, y_pred_on_val))\n",
    "print(\"The f1 score is: %.3f\" % f1_score(y_val, y_pred_on_val, average='macro'))"
   ]
  },
  {
   "cell_type": "code",
   "execution_count": 141,
   "id": "be6ec3b3",
   "metadata": {},
   "outputs": [
    {
     "name": "stdout",
     "output_type": "stream",
     "text": [
      "Fitting 3 folds for each of 9 candidates, totalling 27 fits\n",
      "[CV] END .....................................C=0.1, gamma=1; total time=   8.8s\n",
      "[CV] END .....................................C=0.1, gamma=1; total time=   8.9s\n",
      "[CV] END .....................................C=0.1, gamma=1; total time=   8.9s\n",
      "[CV] END ...................................C=0.1, gamma=0.1; total time=   5.6s\n",
      "[CV] END ...................................C=0.1, gamma=0.1; total time=   5.6s\n",
      "[CV] END ...................................C=0.1, gamma=0.1; total time=   5.6s\n",
      "[CV] END ..................................C=0.1, gamma=0.01; total time=   4.5s\n",
      "[CV] END ..................................C=0.1, gamma=0.01; total time=   4.6s\n",
      "[CV] END ..................................C=0.1, gamma=0.01; total time=   4.8s\n",
      "[CV] END .......................................C=1, gamma=1; total time=   9.4s\n",
      "[CV] END .......................................C=1, gamma=1; total time=   9.3s\n",
      "[CV] END .......................................C=1, gamma=1; total time=   9.1s\n",
      "[CV] END .....................................C=1, gamma=0.1; total time=   3.5s\n",
      "[CV] END .....................................C=1, gamma=0.1; total time=   3.6s\n",
      "[CV] END .....................................C=1, gamma=0.1; total time=   3.6s\n",
      "[CV] END ....................................C=1, gamma=0.01; total time=   2.7s\n",
      "[CV] END ....................................C=1, gamma=0.01; total time=   2.8s\n",
      "[CV] END ....................................C=1, gamma=0.01; total time=   2.8s\n",
      "[CV] END ......................................C=10, gamma=1; total time=   8.9s\n",
      "[CV] END ......................................C=10, gamma=1; total time=   9.0s\n",
      "[CV] END ......................................C=10, gamma=1; total time=   8.9s\n",
      "[CV] END ....................................C=10, gamma=0.1; total time=   3.3s\n",
      "[CV] END ....................................C=10, gamma=0.1; total time=   3.3s\n",
      "[CV] END ....................................C=10, gamma=0.1; total time=   3.4s\n",
      "[CV] END ...................................C=10, gamma=0.01; total time=   1.8s\n",
      "[CV] END ...................................C=10, gamma=0.01; total time=   1.9s\n",
      "[CV] END ...................................C=10, gamma=0.01; total time=   2.0s\n"
     ]
    },
    {
     "data": {
      "text/html": [
       "<style>#sk-container-id-14 {color: black;background-color: white;}#sk-container-id-14 pre{padding: 0;}#sk-container-id-14 div.sk-toggleable {background-color: white;}#sk-container-id-14 label.sk-toggleable__label {cursor: pointer;display: block;width: 100%;margin-bottom: 0;padding: 0.3em;box-sizing: border-box;text-align: center;}#sk-container-id-14 label.sk-toggleable__label-arrow:before {content: \"▸\";float: left;margin-right: 0.25em;color: #696969;}#sk-container-id-14 label.sk-toggleable__label-arrow:hover:before {color: black;}#sk-container-id-14 div.sk-estimator:hover label.sk-toggleable__label-arrow:before {color: black;}#sk-container-id-14 div.sk-toggleable__content {max-height: 0;max-width: 0;overflow: hidden;text-align: left;background-color: #f0f8ff;}#sk-container-id-14 div.sk-toggleable__content pre {margin: 0.2em;color: black;border-radius: 0.25em;background-color: #f0f8ff;}#sk-container-id-14 input.sk-toggleable__control:checked~div.sk-toggleable__content {max-height: 200px;max-width: 100%;overflow: auto;}#sk-container-id-14 input.sk-toggleable__control:checked~label.sk-toggleable__label-arrow:before {content: \"▾\";}#sk-container-id-14 div.sk-estimator input.sk-toggleable__control:checked~label.sk-toggleable__label {background-color: #d4ebff;}#sk-container-id-14 div.sk-label input.sk-toggleable__control:checked~label.sk-toggleable__label {background-color: #d4ebff;}#sk-container-id-14 input.sk-hidden--visually {border: 0;clip: rect(1px 1px 1px 1px);clip: rect(1px, 1px, 1px, 1px);height: 1px;margin: -1px;overflow: hidden;padding: 0;position: absolute;width: 1px;}#sk-container-id-14 div.sk-estimator {font-family: monospace;background-color: #f0f8ff;border: 1px dotted black;border-radius: 0.25em;box-sizing: border-box;margin-bottom: 0.5em;}#sk-container-id-14 div.sk-estimator:hover {background-color: #d4ebff;}#sk-container-id-14 div.sk-parallel-item::after {content: \"\";width: 100%;border-bottom: 1px solid gray;flex-grow: 1;}#sk-container-id-14 div.sk-label:hover label.sk-toggleable__label {background-color: #d4ebff;}#sk-container-id-14 div.sk-serial::before {content: \"\";position: absolute;border-left: 1px solid gray;box-sizing: border-box;top: 0;bottom: 0;left: 50%;z-index: 0;}#sk-container-id-14 div.sk-serial {display: flex;flex-direction: column;align-items: center;background-color: white;padding-right: 0.2em;padding-left: 0.2em;position: relative;}#sk-container-id-14 div.sk-item {position: relative;z-index: 1;}#sk-container-id-14 div.sk-parallel {display: flex;align-items: stretch;justify-content: center;background-color: white;position: relative;}#sk-container-id-14 div.sk-item::before, #sk-container-id-14 div.sk-parallel-item::before {content: \"\";position: absolute;border-left: 1px solid gray;box-sizing: border-box;top: 0;bottom: 0;left: 50%;z-index: -1;}#sk-container-id-14 div.sk-parallel-item {display: flex;flex-direction: column;z-index: 1;position: relative;background-color: white;}#sk-container-id-14 div.sk-parallel-item:first-child::after {align-self: flex-end;width: 50%;}#sk-container-id-14 div.sk-parallel-item:last-child::after {align-self: flex-start;width: 50%;}#sk-container-id-14 div.sk-parallel-item:only-child::after {width: 0;}#sk-container-id-14 div.sk-dashed-wrapped {border: 1px dashed gray;margin: 0 0.4em 0.5em 0.4em;box-sizing: border-box;padding-bottom: 0.4em;background-color: white;}#sk-container-id-14 div.sk-label label {font-family: monospace;font-weight: bold;display: inline-block;line-height: 1.2em;}#sk-container-id-14 div.sk-label-container {text-align: center;}#sk-container-id-14 div.sk-container {/* jupyter's `normalize.less` sets `[hidden] { display: none; }` but bootstrap.min.css set `[hidden] { display: none !important; }` so we also need the `!important` here to be able to override the default hidden behavior on the sphinx rendered scikit-learn.org. See: https://github.com/scikit-learn/scikit-learn/issues/21755 */display: inline-block !important;position: relative;}#sk-container-id-14 div.sk-text-repr-fallback {display: none;}</style><div id=\"sk-container-id-14\" class=\"sk-top-container\"><div class=\"sk-text-repr-fallback\"><pre>GridSearchCV(cv=3, estimator=SVC(),\n",
       "             param_grid={&#x27;C&#x27;: [0.1, 1, 10], &#x27;gamma&#x27;: [1, 0.1, 0.01]},\n",
       "             verbose=2)</pre><b>In a Jupyter environment, please rerun this cell to show the HTML representation or trust the notebook. <br />On GitHub, the HTML representation is unable to render, please try loading this page with nbviewer.org.</b></div><div class=\"sk-container\" hidden><div class=\"sk-item sk-dashed-wrapped\"><div class=\"sk-label-container\"><div class=\"sk-label sk-toggleable\"><input class=\"sk-toggleable__control sk-hidden--visually\" id=\"sk-estimator-id-32\" type=\"checkbox\" ><label for=\"sk-estimator-id-32\" class=\"sk-toggleable__label sk-toggleable__label-arrow\">GridSearchCV</label><div class=\"sk-toggleable__content\"><pre>GridSearchCV(cv=3, estimator=SVC(),\n",
       "             param_grid={&#x27;C&#x27;: [0.1, 1, 10], &#x27;gamma&#x27;: [1, 0.1, 0.01]},\n",
       "             verbose=2)</pre></div></div></div><div class=\"sk-parallel\"><div class=\"sk-parallel-item\"><div class=\"sk-item\"><div class=\"sk-label-container\"><div class=\"sk-label sk-toggleable\"><input class=\"sk-toggleable__control sk-hidden--visually\" id=\"sk-estimator-id-33\" type=\"checkbox\" ><label for=\"sk-estimator-id-33\" class=\"sk-toggleable__label sk-toggleable__label-arrow\">estimator: SVC</label><div class=\"sk-toggleable__content\"><pre>SVC()</pre></div></div></div><div class=\"sk-serial\"><div class=\"sk-item\"><div class=\"sk-estimator sk-toggleable\"><input class=\"sk-toggleable__control sk-hidden--visually\" id=\"sk-estimator-id-34\" type=\"checkbox\" ><label for=\"sk-estimator-id-34\" class=\"sk-toggleable__label sk-toggleable__label-arrow\">SVC</label><div class=\"sk-toggleable__content\"><pre>SVC()</pre></div></div></div></div></div></div></div></div></div></div>"
      ],
      "text/plain": [
       "GridSearchCV(cv=3, estimator=SVC(),\n",
       "             param_grid={'C': [0.1, 1, 10], 'gamma': [1, 0.1, 0.01]},\n",
       "             verbose=2)"
      ]
     },
     "execution_count": 141,
     "metadata": {},
     "output_type": "execute_result"
    }
   ],
   "source": [
    "from sklearn.svm import SVC\n",
    "param_grid = {'C': [0.1, 1, 10], \n",
    "              'gamma': [1, 0.1, 0.01]\n",
    "             } \n",
    "  \n",
    "grid_search_SVC_rbf = GridSearchCV(SVC(kernel='rbf'), param_grid, verbose = 3, cv = 3)\n",
    "  \n",
    "grid_search_SVC_rbf.fit(X_train, y_train)"
   ]
  },
  {
   "cell_type": "code",
   "execution_count": 143,
   "id": "aaf12e04",
   "metadata": {},
   "outputs": [
    {
     "name": "stdout",
     "output_type": "stream",
     "text": [
      "{'C': 10, 'gamma': 0.1}\n"
     ]
    }
   ],
   "source": [
    "print(grid_search_SVC_rbf.best_params_)"
   ]
  },
  {
   "cell_type": "code",
   "execution_count": 144,
   "id": "bed64316",
   "metadata": {},
   "outputs": [
    {
     "name": "stdout",
     "output_type": "stream",
     "text": [
      "The training acccuracy is: 0.936\n",
      "The validation acccuracy is: 0.881\n",
      "The f1 score is: 0.835\n"
     ]
    }
   ],
   "source": [
    "y_pred_on_val = grid_search_SVC_rbf.predict(X_val)\n",
    "print(\"The training acccuracy is: %.3f\" % grid_search_SVC_rbf.best_score_)\n",
    "print(\"The validation acccuracy is: %.3f\" % sklearn.metrics.accuracy_score(y_val, y_pred_on_val))\n",
    "print(\"The f1 score is: %.3f\" % f1_score(y_val, y_pred_on_val, average='macro'))"
   ]
  },
  {
   "cell_type": "markdown",
   "id": "d992e211",
   "metadata": {},
   "source": [
    "# Final results on test set"
   ]
  },
  {
   "cell_type": "code",
   "execution_count": 131,
   "id": "fc274dfa",
   "metadata": {},
   "outputs": [],
   "source": [
    "# evaluate the best model on X_test, y_test\n",
    "\n",
    "# merge train and val data\n",
    "X_train_val_merge = np.vstack([X_train, X_val]) \n",
    "y_train_val_merge = np.concatenate((y_train, y_val))\n",
    "\n",
    "model = grid_search_bagging.best_estimator_.fit(X_train_val_merge, y_train_val_merge)"
   ]
  },
  {
   "cell_type": "code",
   "execution_count": 132,
   "id": "b68ffa55",
   "metadata": {},
   "outputs": [],
   "source": [
    "y_pred_on_test = model.predict(X_test)"
   ]
  },
  {
   "cell_type": "code",
   "execution_count": 133,
   "id": "3f646794",
   "metadata": {},
   "outputs": [
    {
     "name": "stdout",
     "output_type": "stream",
     "text": [
      "              precision    recall  f1-score   support\n",
      "\n",
      "       Melon       0.93      0.92      0.92       191\n",
      "      Carrot       0.94      0.89      0.92       187\n",
      "      Orange       0.94      0.97      0.96       243\n",
      "       Apple       0.80      0.84      0.82        38\n",
      "       Berry       0.95      0.96      0.95       236\n",
      "       Mango       0.71      0.80      0.75        15\n",
      "       Peach       0.89      0.85      0.87        46\n",
      "\n",
      "    accuracy                           0.93       956\n",
      "   macro avg       0.88      0.89      0.88       956\n",
      "weighted avg       0.93      0.93      0.93       956\n",
      "\n"
     ]
    }
   ],
   "source": [
    "print(sklearn.metrics.classification_report(y_test, y_pred_on_test, target_names=df['Y'].unique()))"
   ]
  },
  {
   "cell_type": "code",
   "execution_count": 134,
   "id": "93931824",
   "metadata": {},
   "outputs": [
    {
     "data": {
      "text/plain": [
       "array([[176,   0,   0,   0,   8,   2,   5],\n",
       "       [  2, 167,  13,   1,   4,   0,   0],\n",
       "       [  0,   3, 236,   4,   0,   0,   0],\n",
       "       [  0,   5,   1,  32,   0,   0,   0],\n",
       "       [  2,   2,   0,   3, 226,   3,   0],\n",
       "       [  3,   0,   0,   0,   0,  12,   0],\n",
       "       [  7,   0,   0,   0,   0,   0,  39]], dtype=int64)"
      ]
     },
     "execution_count": 134,
     "metadata": {},
     "output_type": "execute_result"
    }
   ],
   "source": [
    "sklearn.metrics.confusion_matrix(y_test, y_pred_on_test)"
   ]
  },
  {
   "cell_type": "markdown",
   "id": "1bf7f4a7",
   "metadata": {},
   "source": [
    "## From the confusion matrix we can see that mango seems to be performing worse but it could be due to having a small sample of mango in the test set"
   ]
  },
  {
   "cell_type": "code",
   "execution_count": 140,
   "id": "7b0dad6c",
   "metadata": {},
   "outputs": [
    {
     "name": "stdout",
     "output_type": "stream",
     "text": [
      "The training acccuracy is: 1.000\n",
      "The f1 score is: 1.000\n"
     ]
    }
   ],
   "source": [
    "y_pred = model.predict(X_train_val_merge)\n",
    "print(\"The training acccuracy is: %.3f\" % sklearn.metrics.accuracy_score(y_train_val_merge, y_pred))\n",
    "print(\"The training f1 score is: %.3f\" % f1_score(y_train_val_merge, y_pred, average='macro'))"
   ]
  },
  {
   "cell_type": "code",
   "execution_count": 145,
   "id": "e4ad20ff",
   "metadata": {},
   "outputs": [
    {
     "name": "stdout",
     "output_type": "stream",
     "text": [
      "              precision    recall  f1-score   support\n",
      "\n",
      "       Melon       1.00      1.00      1.00      1326\n",
      "      Carrot       1.00      1.00      1.00      1322\n",
      "      Orange       1.00      1.00      1.00      1377\n",
      "       Apple       1.00      1.00      1.00      1171\n",
      "       Berry       1.00      1.00      1.00      1370\n",
      "       Mango       1.00      1.00      1.00      1149\n",
      "       Peach       1.00      1.00      1.00      1180\n",
      "\n",
      "    accuracy                           1.00      8895\n",
      "   macro avg       1.00      1.00      1.00      8895\n",
      "weighted avg       1.00      1.00      1.00      8895\n",
      "\n"
     ]
    }
   ],
   "source": [
    "print(sklearn.metrics.classification_report(y_train_val_merge, y_pred, target_names=df['Y'].unique()))"
   ]
  },
  {
   "cell_type": "code",
   "execution_count": null,
   "id": "1f28980d",
   "metadata": {},
   "outputs": [],
   "source": []
  }
 ],
 "metadata": {
  "kernelspec": {
   "display_name": "Python 3 (ipykernel)",
   "language": "python",
   "name": "python3"
  },
  "language_info": {
   "codemirror_mode": {
    "name": "ipython",
    "version": 3
   },
   "file_extension": ".py",
   "mimetype": "text/x-python",
   "name": "python",
   "nbconvert_exporter": "python",
   "pygments_lexer": "ipython3",
   "version": "3.8.15"
  },
  "toc": {
   "base_numbering": 1,
   "nav_menu": {},
   "number_sections": true,
   "sideBar": true,
   "skip_h1_title": false,
   "title_cell": "Table of Contents",
   "title_sidebar": "Contents",
   "toc_cell": false,
   "toc_position": {},
   "toc_section_display": true,
   "toc_window_display": false
  }
 },
 "nbformat": 4,
 "nbformat_minor": 5
}
